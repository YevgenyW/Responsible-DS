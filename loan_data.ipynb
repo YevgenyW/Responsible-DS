{
 "cells": [
  {
   "cell_type": "code",
   "execution_count": 110,
   "metadata": {
    "ExecuteTime": {
     "end_time": "2019-04-14T20:51:16.456339Z",
     "start_time": "2019-04-14T20:51:16.410321Z"
    }
   },
   "outputs": [
    {
     "name": "stdout",
     "output_type": "stream",
     "text": [
      "The autoreload extension is already loaded. To reload it, use:\n",
      "  %reload_ext autoreload\n"
     ]
    }
   ],
   "source": [
    "%matplotlib inline\n",
    "%load_ext autoreload\n",
    "%autoreload 2"
   ]
  },
  {
   "cell_type": "code",
   "execution_count": 111,
   "metadata": {
    "ExecuteTime": {
     "end_time": "2019-04-14T20:51:16.790926Z",
     "start_time": "2019-04-14T20:51:16.745972Z"
    }
   },
   "outputs": [
    {
     "data": {
      "text/plain": [
       "RendererRegistry.enable('notebook')"
      ]
     },
     "execution_count": 111,
     "metadata": {},
     "output_type": "execute_result"
    }
   ],
   "source": [
    "import altair as alt\n",
    "from vega_datasets import data\n",
    "\n",
    "# for the notebook only (not for JupyterLab) run this command once per session\n",
    "alt.renderers.enable('notebook')"
   ]
  },
  {
   "cell_type": "markdown",
   "metadata": {},
   "source": [
    "# Load model"
   ]
  },
  {
   "cell_type": "code",
   "execution_count": 112,
   "metadata": {
    "ExecuteTime": {
     "end_time": "2019-04-14T20:51:17.644019Z",
     "start_time": "2019-04-14T20:51:17.600527Z"
    }
   },
   "outputs": [],
   "source": [
    "from models import loan_model\n",
    "\n",
    "# load model\n",
    "def model_prediction(x):\n",
    "    return loan_model.predict(x)\n",
    "\n",
    "def model_prediction_simple(x):\n",
    "    return loan_model.simple_predict(x)\n",
    "\n",
    "def model_classes():\n",
    "    return loan_model.classes()\n",
    "\n",
    "X = loan_model.get_data()"
   ]
  },
  {
   "cell_type": "markdown",
   "metadata": {
    "colab_type": "text",
    "id": "U3OxW_4UKXvk"
   },
   "source": [
    "# Skater (analyze model)"
   ]
  },
  {
   "cell_type": "markdown",
   "metadata": {
    "colab_type": "text",
    "id": "BrB-F9RpJT4g"
   },
   "source": [
    "## Feature importance"
   ]
  },
  {
   "cell_type": "code",
   "execution_count": 113,
   "metadata": {
    "ExecuteTime": {
     "end_time": "2019-04-14T20:51:20.668057Z",
     "start_time": "2019-04-14T20:51:20.120591Z"
    },
    "colab": {},
    "colab_type": "code",
    "id": "6C44YfoKD6po"
   },
   "outputs": [
    {
     "name": "stderr",
     "output_type": "stream",
     "text": [
      "2019-04-14 23:51:20,203 - skater.core.explanations - WARNING - Progress bars slow down runs by 10-20%. For slightly \n",
      "faster runs, do progress_bar=False\n"
     ]
    },
    {
     "name": "stdout",
     "output_type": "stream",
     "text": [
      "[12/12] features ████████████████████ Time elapsed: 0 secondsFeature Importance (predict_proba)\n",
      "LoanAmount           0.181373\n",
      "Credit_History       0.156863\n",
      "CoapplicantIncome    0.134804\n",
      "ApplicantIncome      0.125000\n",
      "Married              0.090686\n",
      "Rural                0.071078\n",
      "Urban                0.058824\n",
      "Dependents           0.056373\n",
      "Loan_Amount_Term     0.044118\n",
      "Gender               0.039216\n",
      "Education            0.034314\n",
      "Self_Employed        0.007353\n",
      "dtype: float64\n"
     ]
    }
   ],
   "source": [
    "from src import feature_importance\n",
    "\n",
    "features = feature_importance.get_features(model_prediction, X[1])\n",
    "print(\"Feature Importance (predict_proba)\")\n",
    "print(features)"
   ]
  },
  {
   "cell_type": "markdown",
   "metadata": {
    "colab_type": "text",
    "id": "VHS0qRcZJXli"
   },
   "source": [
    "#### Using 'predict'"
   ]
  },
  {
   "cell_type": "code",
   "execution_count": 114,
   "metadata": {
    "ExecuteTime": {
     "end_time": "2019-04-14T20:51:22.678833Z",
     "start_time": "2019-04-14T20:51:22.127860Z"
    },
    "colab": {
     "base_uri": "https://localhost:8080/",
     "height": 289
    },
    "colab_type": "code",
    "id": "qzWi58ezJlGn",
    "outputId": "b3cbf843-8b39-4ba0-92bf-6921ea3fd02c"
   },
   "outputs": [
    {
     "name": "stderr",
     "output_type": "stream",
     "text": [
      "2019-04-14 23:51:22,220 - skater.core.explanations - WARNING - Progress bars slow down runs by 10-20%. For slightly \n",
      "faster runs, do progress_bar=False\n"
     ]
    },
    {
     "name": "stdout",
     "output_type": "stream",
     "text": [
      "[12/12] features ████████████████████ Time elapsed: 0 secondsFeature Importance (predict)\n"
     ]
    },
    {
     "data": {
      "text/plain": [
       "Credit_History       0.183029\n",
       "LoanAmount           0.163394\n",
       "ApplicantIncome      0.115708\n",
       "CoapplicantIncome    0.113604\n",
       "Married              0.094670\n",
       "Dependents           0.069425\n",
       "Rural                0.056101\n",
       "Urban                0.054348\n",
       "Education            0.041725\n",
       "Loan_Amount_Term     0.039972\n",
       "Gender               0.038219\n",
       "Self_Employed        0.029804\n",
       "dtype: float64"
      ]
     },
     "execution_count": 114,
     "metadata": {},
     "output_type": "execute_result"
    }
   ],
   "source": [
    "features_2 = feature_importance.get_features_2(model_prediction, X[0], model_classes)\n",
    "print(\"Feature Importance (predict)\")\n",
    "features_2"
   ]
  },
  {
   "cell_type": "markdown",
   "metadata": {
    "colab_type": "text",
    "id": "fa44ixKjJ_NL"
   },
   "source": [
    "## partial dependence \n"
   ]
  },
  {
   "cell_type": "code",
   "execution_count": 115,
   "metadata": {
    "ExecuteTime": {
     "end_time": "2019-04-14T20:51:26.977329Z",
     "start_time": "2019-04-14T20:51:26.162034Z"
    },
    "colab": {
     "base_uri": "https://localhost:8080/",
     "height": 423
    },
    "colab_type": "code",
    "id": "KvriJLQGJlIy",
    "outputId": "b272d4e1-0d52-4524-f017-dbb6f90a7a2a"
   },
   "outputs": [
    {
     "name": "stderr",
     "output_type": "stream",
     "text": [
      "2019-04-14 23:51:26,281 - skater.core.explanations - WARNING - Progress bars slow down runs by 10-20%. For slightly \n",
      "faster runs, do progressbar=False\n"
     ]
    },
    {
     "name": "stdout",
     "output_type": "stream",
     "text": [
      "[29/29] grid cells ████████████████████ Time elapsed: 0 seconds"
     ]
    },
    {
     "data": {
      "text/html": [
       "<div class=\"vega-embed\" id=\"faeeca78-837e-4b7b-9033-0db06ec203d9\"></div>\n",
       "\n",
       "<style>\n",
       ".vega-embed .vega-actions > a {\n",
       "    transition: opacity 200ms ease-in;\n",
       "    opacity: 0.3;\n",
       "    margin-right: 0.6em;\n",
       "    color: #444;\n",
       "    text-decoration: none;\n",
       "}\n",
       "\n",
       ".vega-embed .vega-actions > a:hover {\n",
       "    color: #000;\n",
       "    text-decoration: underline;\n",
       "}\n",
       "\n",
       ".vega-embed:hover .vega-actions > a {\n",
       "    opacity: 1;\n",
       "    transition: 0s;\n",
       "}\n",
       "\n",
       ".vega-embed .error p {\n",
       "    color: firebrick;\n",
       "    font-size: 1.2em;\n",
       "}\n",
       "</style>\n"
      ]
     },
     "metadata": {
      "jupyter-vega3": "#faeeca78-837e-4b7b-9033-0db06ec203d9"
     },
     "output_type": "display_data"
    },
    {
     "data": {
      "application/javascript": [
       "var spec = {\"config\": {\"view\": {\"width\": 400, \"height\": 300}}, \"data\": {\"name\": \"data-b3ea5be41daafce9da1d0a1a748f8261\"}, \"mark\": \"line\", \"encoding\": {\"x\": {\"type\": \"quantitative\", \"field\": \"LoanAmount\"}, \"y\": {\"type\": \"quantitative\", \"field\": \"predicted_1\"}}, \"$schema\": \"https://vega.github.io/schema/vega-lite/v2.6.0.json\", \"datasets\": {\"data-b3ea5be41daafce9da1d0a1a748f8261\": [{\"LoanAmount\": 57.5, \"predicted_1\": 0.7563999999999983, \"sd_estimate\": 0.007488593993534465, \"sd_prediction\": 0.23681013491825145}, {\"LoanAmount\": 68.49137931034483, \"predicted_1\": 0.7051999999999985, \"sd_estimate\": 0.007019470065467895, \"sd_prediction\": 0.22197513374249794}, {\"LoanAmount\": 70.64655172413794, \"predicted_1\": 0.6713999999999987, \"sd_estimate\": 0.007618532667121647, \"sd_prediction\": 0.24091915656501803}, {\"LoanAmount\": 80.59482758620689, \"predicted_1\": 0.6957999999999994, \"sd_estimate\": 0.008429849346222054, \"sd_prediction\": 0.2665752426614302}, {\"LoanAmount\": 83.54310344827587, \"predicted_1\": 0.7139999999999986, \"sd_estimate\": 0.008497293686815819, \"sd_prediction\": 0.26870801997707466}, {\"LoanAmount\": 94.42241379310343, \"predicted_1\": 0.7187999999999971, \"sd_estimate\": 0.009002586295059916, \"sd_prediction\": 0.2846867752460599}, {\"LoanAmount\": 100.0, \"predicted_1\": 0.7719999999999982, \"sd_estimate\": 0.009019756094263327, \"sd_prediction\": 0.2852297319705651}, {\"LoanAmount\": 105.00862068965517, \"predicted_1\": 0.7858999999999982, \"sd_estimate\": 0.008969458735063147, \"sd_prediction\": 0.2836391898169232}, {\"LoanAmount\": 110.0, \"predicted_1\": 0.789399999999998, \"sd_estimate\": 0.008964800053542757, \"sd_prediction\": 0.28349186937194554}, {\"LoanAmount\": 112.0, \"predicted_1\": 0.783499999999997, \"sd_estimate\": 0.00900986958840135, \"sd_prediction\": 0.2849170932043206}, {\"LoanAmount\": 113.0, \"predicted_1\": 0.7882999999999969, \"sd_estimate\": 0.009040636592629952, \"sd_prediction\": 0.2858900313057447}, {\"LoanAmount\": 114.0, \"predicted_1\": 0.7882999999999969, \"sd_estimate\": 0.009040636592629952, \"sd_prediction\": 0.2858900313057447}, {\"LoanAmount\": 116.0, \"predicted_1\": 0.7938999999999969, \"sd_estimate\": 0.009101252111660253, \"sd_prediction\": 0.287806862322635}, {\"LoanAmount\": 120.02586206896552, \"predicted_1\": 0.7975999999999968, \"sd_estimate\": 0.008965168152354996, \"sd_prediction\": 0.2835035096784523}, {\"LoanAmount\": 125.97413793103448, \"predicted_1\": 0.7918999999999968, \"sd_estimate\": 0.008895189149197446, \"sd_prediction\": 0.28129057929479256}, {\"LoanAmount\": 128.0, \"predicted_1\": 0.7731999999999968, \"sd_estimate\": 0.008779621859738606, \"sd_prediction\": 0.27763602071777355}, {\"LoanAmount\": 130.0, \"predicted_1\": 0.7818999999999969, \"sd_estimate\": 0.008856770856243307, \"sd_prediction\": 0.2800756861992858}, {\"LoanAmount\": 132.81896551724137, \"predicted_1\": 0.7818999999999969, \"sd_estimate\": 0.008856770856243307, \"sd_prediction\": 0.2800756861992858}, {\"LoanAmount\": 136.0, \"predicted_1\": 0.7763999999999972, \"sd_estimate\": 0.008942205544495192, \"sd_prediction\": 0.2827773682599096}, {\"LoanAmount\": 146.2931034482759, \"predicted_1\": 0.763799999999998, \"sd_estimate\": 0.008945924211617261, \"sd_prediction\": 0.28289496283956683}, {\"LoanAmount\": 157.66379310344826, \"predicted_1\": 0.6657999999999977, \"sd_estimate\": 0.008029343684262162, \"sd_prediction\": 0.253910141585563}, {\"LoanAmount\": 173.83620689655174, \"predicted_1\": 0.6613000000000002, \"sd_estimate\": 0.007782821467822589, \"sd_prediction\": 0.2461144246077425}, {\"LoanAmount\": 179.1206896551724, \"predicted_1\": 0.6747999999999998, \"sd_estimate\": 0.008192982362973807, \"sd_prediction\": 0.2590848509658561}, {\"LoanAmount\": 187.50862068965517, \"predicted_1\": 0.6726000000000003, \"sd_estimate\": 0.008085124612521451, \"sd_prediction\": 0.2556740894185411}, {\"LoanAmount\": 203.198275862069, \"predicted_1\": 0.6924999999999987, \"sd_estimate\": 0.007970806107289235, \"sd_prediction\": 0.2520590208661443}, {\"LoanAmount\": 232.29310344827576, \"predicted_1\": 0.6813999999999995, \"sd_estimate\": 0.007906582068125221, \"sd_prediction\": 0.2500280784232029}, {\"LoanAmount\": 248.47413793103445, \"predicted_1\": 0.6592999999999988, \"sd_estimate\": 0.00739144843721448, \"sd_prediction\": 0.2337381226928983}, {\"LoanAmount\": 260.0, \"predicted_1\": 0.5587000000000009, \"sd_estimate\": 0.006718951555116323, \"sd_prediction\": 0.21247190402497937}, {\"LoanAmount\": 301.0, \"predicted_1\": 0.6011000000000017, \"sd_estimate\": 0.007354508141269553, \"sd_prediction\": 0.2325699679666318}]}};\n",
       "var opt = {};\n",
       "var selector = \"#faeeca78-837e-4b7b-9033-0db06ec203d9\";\n",
       "var type = \"vega-lite\";\n",
       "\n",
       "var output_area = this;\n",
       "\n",
       "require(['nbextensions/jupyter-vega3/index'], function(vega) {\n",
       "  vega.render(selector, spec, type, opt, output_area);\n",
       "}, function (err) {\n",
       "  if (err.requireType !== 'scripterror') {\n",
       "    throw(err);\n",
       "  }\n",
       "});\n"
      ]
     },
     "metadata": {
      "jupyter-vega3": "#faeeca78-837e-4b7b-9033-0db06ec203d9"
     },
     "output_type": "display_data"
    },
    {
     "data": {
      "text/plain": []
     },
     "execution_count": 115,
     "metadata": {},
     "output_type": "execute_result"
    },
    {
     "data": {
      "image/png": "[encoded data removed]"
     },
     "metadata": {
      "jupyter-vega3": "#faeeca78-837e-4b7b-9033-0db06ec203d9"
     },
     "output_type": "display_data"
    }
   ],
   "source": [
    "# partial_dependence = interpreter.partial_dependence.partial_dependence(['LoanAmount'], skater_model, grid_resolution=30)\n",
    "from src import partial_dependence\n",
    "dependency = partial_dependence.get_dependency(model_prediction, X[1], ['LoanAmount'])\n",
    "alt.Chart(dependency).mark_line().encode(\n",
    "    x='LoanAmount',\n",
    "    y='predicted_1'\n",
    ")"
   ]
  },
  {
   "cell_type": "code",
   "execution_count": 116,
   "metadata": {
    "ExecuteTime": {
     "end_time": "2019-04-14T20:51:28.446316Z",
     "start_time": "2019-04-14T20:51:27.632859Z"
    },
    "colab": {
     "base_uri": "https://localhost:8080/",
     "height": 423
    },
    "colab_type": "code",
    "id": "snfNhGkLT5pl",
    "outputId": "7515f362-501f-44a9-879a-d5d207444c89"
   },
   "outputs": [
    {
     "name": "stderr",
     "output_type": "stream",
     "text": [
      "2019-04-14 23:51:27,756 - skater.core.explanations - WARNING - Progress bars slow down runs by 10-20%. For slightly \n",
      "faster runs, do progressbar=False\n"
     ]
    },
    {
     "name": "stdout",
     "output_type": "stream",
     "text": [
      "[30/30] grid cells ████████████████████ Time elapsed: 0 seconds"
     ]
    },
    {
     "data": {
      "text/html": [
       "<div class=\"vega-embed\" id=\"1b54519e-ac5d-4d4a-9c1c-8847bb72edf6\"></div>\n",
       "\n",
       "<style>\n",
       ".vega-embed .vega-actions > a {\n",
       "    transition: opacity 200ms ease-in;\n",
       "    opacity: 0.3;\n",
       "    margin-right: 0.6em;\n",
       "    color: #444;\n",
       "    text-decoration: none;\n",
       "}\n",
       "\n",
       ".vega-embed .vega-actions > a:hover {\n",
       "    color: #000;\n",
       "    text-decoration: underline;\n",
       "}\n",
       "\n",
       ".vega-embed:hover .vega-actions > a {\n",
       "    opacity: 1;\n",
       "    transition: 0s;\n",
       "}\n",
       "\n",
       ".vega-embed .error p {\n",
       "    color: firebrick;\n",
       "    font-size: 1.2em;\n",
       "}\n",
       "</style>\n"
      ]
     },
     "metadata": {
      "jupyter-vega3": "#1b54519e-ac5d-4d4a-9c1c-8847bb72edf6"
     },
     "output_type": "display_data"
    },
    {
     "data": {
      "application/javascript": [
       "var spec = {\"config\": {\"view\": {\"width\": 400, \"height\": 300}}, \"data\": {\"name\": \"data-2bc17823f12e20eef3e215362e9569b9\"}, \"mark\": \"line\", \"encoding\": {\"x\": {\"type\": \"quantitative\", \"field\": \"ApplicantIncome\"}, \"y\": {\"type\": \"quantitative\", \"field\": \"predicted_1\"}}, \"$schema\": \"https://vega.github.io/schema/vega-lite/v2.6.0.json\", \"datasets\": {\"data-2bc17823f12e20eef3e215362e9569b9\": [{\"ApplicantIncome\": 2008.75, \"predicted_1\": 0.7620999999999991, \"sd_estimate\": 0.007419810644484083, \"sd_prediction\": 0.2346350144373156}, {\"ApplicantIncome\": 2145.6810344827586, \"predicted_1\": 0.7602999999999993, \"sd_estimate\": 0.007438676629616343, \"sd_prediction\": 0.23523160927052375}, {\"ApplicantIncome\": 2241.689655172414, \"predicted_1\": 0.7500999999999993, \"sd_estimate\": 0.00793221217567961, \"sd_prediction\": 0.2508385735886725}, {\"ApplicantIncome\": 2500.0, \"predicted_1\": 0.7543999999999991, \"sd_estimate\": 0.007891808411257837, \"sd_prediction\": 0.24956089437249568}, {\"ApplicantIncome\": 2635.844827586207, \"predicted_1\": 0.7251000000000001, \"sd_estimate\": 0.008513518074215852, \"sd_prediction\": 0.2692210801553251}, {\"ApplicantIncome\": 2882.387931034483, \"predicted_1\": 0.7397000000000009, \"sd_estimate\": 0.008564689720007403, \"sd_prediction\": 0.27083926967853184}, {\"ApplicantIncome\": 2975.9051724137935, \"predicted_1\": 0.7411000000000012, \"sd_estimate\": 0.008598883067003545, \"sd_prediction\": 0.2719205582518547}, {\"ApplicantIncome\": 3089.5948275862065, \"predicted_1\": 0.7281000000000002, \"sd_estimate\": 0.008537001229940146, \"sd_prediction\": 0.269963682742697}, {\"ApplicantIncome\": 3169.0172413793107, \"predicted_1\": 0.6888999999999996, \"sd_estimate\": 0.008516266200630394, \"sd_prediction\": 0.26930798354300534}, {\"ApplicantIncome\": 3214.8275862068967, \"predicted_1\": 0.6833000000000009, \"sd_estimate\": 0.00839589840338719, \"sd_prediction\": 0.26550161958074675}, {\"ApplicantIncome\": 3294.637931034483, \"predicted_1\": 0.6823000000000007, \"sd_estimate\": 0.008411700779271709, \"sd_prediction\": 0.2660013345831187}, {\"ApplicantIncome\": 3501.8103448275865, \"predicted_1\": 0.7282000000000011, \"sd_estimate\": 0.008921029088619782, \"sd_prediction\": 0.28210770992654616}, {\"ApplicantIncome\": 3602.198275862069, \"predicted_1\": 0.7294000000000014, \"sd_estimate\": 0.008883447528972044, \"sd_prediction\": 0.2809192766614629}, {\"ApplicantIncome\": 3719.560344827586, \"predicted_1\": 0.7411000000000002, \"sd_estimate\": 0.008822742770816806, \"sd_prediction\": 0.2789996236556605}, {\"ApplicantIncome\": 3859.206896551724, \"predicted_1\": 0.7515000000000007, \"sd_estimate\": 0.008749728567218519, \"sd_prediction\": 0.27669071180652205}, {\"ApplicantIncome\": 3991.2931034482754, \"predicted_1\": 0.753000000000001, \"sd_estimate\": 0.00856802194208203, \"sd_prediction\": 0.270944643792785}, {\"ApplicantIncome\": 4180.784482758621, \"predicted_1\": 0.7418, \"sd_estimate\": 0.008897907619210268, \"sd_prediction\": 0.2813765448647064}, {\"ApplicantIncome\": 4274.4051724137935, \"predicted_1\": 0.7438999999999999, \"sd_estimate\": 0.008939954697871778, \"sd_prediction\": 0.28270619023997273}, {\"ApplicantIncome\": 4527.620689655171, \"predicted_1\": 0.7153000000000009, \"sd_estimate\": 0.00893956990016859, \"sd_prediction\": 0.282694021868168}, {\"ApplicantIncome\": 4635.939655172413, \"predicted_1\": 0.7098000000000008, \"sd_estimate\": 0.008900784235110978, \"sd_prediction\": 0.2814675114467034}, {\"ApplicantIncome\": 5302.715517241383, \"predicted_1\": 0.7214999999999999, \"sd_estimate\": 0.008797030749065286, \"sd_prediction\": 0.2781865381358346}, {\"ApplicantIncome\": 5604.28448275862, \"predicted_1\": 0.7250000000000004, \"sd_estimate\": 0.009028565777575095, \"sd_prediction\": 0.28550831861786474}, {\"ApplicantIncome\": 5770.8965517241395, \"predicted_1\": 0.7298000000000009, \"sd_estimate\": 0.00897507437295091, \"sd_prediction\": 0.28381677187932386}, {\"ApplicantIncome\": 6182.293103448275, \"predicted_1\": 0.7159000000000004, \"sd_estimate\": 0.008583541809765907, \"sd_prediction\": 0.27143542510143986}, {\"ApplicantIncome\": 6603.1551724137935, \"predicted_1\": 0.7476999999999991, \"sd_estimate\": 0.008622917719658462, \"sd_prediction\": 0.2726806007034602}, {\"ApplicantIncome\": 8191.250000000001, \"predicted_1\": 0.7272, \"sd_estimate\": 0.008562719194274692, \"sd_prediction\": 0.2707769561834984}, {\"ApplicantIncome\": 8670.508620689649, \"predicted_1\": 0.7187999999999982, \"sd_estimate\": 0.008415851709720213, \"sd_prediction\": 0.2661325985293809}, {\"ApplicantIncome\": 9715.517241379308, \"predicted_1\": 0.7235999999999985, \"sd_estimate\": 0.00833444899198497, \"sd_prediction\": 0.26355841857166934}, {\"ApplicantIncome\": 10586.62068965517, \"predicted_1\": 0.7313999999999984, \"sd_estimate\": 0.008332709043282397, \"sd_prediction\": 0.26350339656254956}, {\"ApplicantIncome\": 12645.75, \"predicted_1\": 0.7313999999999984, \"sd_estimate\": 0.008332709043282397, \"sd_prediction\": 0.26350339656254956}]}};\n",
       "var opt = {};\n",
       "var selector = \"#1b54519e-ac5d-4d4a-9c1c-8847bb72edf6\";\n",
       "var type = \"vega-lite\";\n",
       "\n",
       "var output_area = this;\n",
       "\n",
       "require(['nbextensions/jupyter-vega3/index'], function(vega) {\n",
       "  vega.render(selector, spec, type, opt, output_area);\n",
       "}, function (err) {\n",
       "  if (err.requireType !== 'scripterror') {\n",
       "    throw(err);\n",
       "  }\n",
       "});\n"
      ]
     },
     "metadata": {
      "jupyter-vega3": "#1b54519e-ac5d-4d4a-9c1c-8847bb72edf6"
     },
     "output_type": "display_data"
    },
    {
     "data": {
      "text/plain": []
     },
     "execution_count": 116,
     "metadata": {},
     "output_type": "execute_result"
    },
    {
     "data": {
      "image/png": "[encoded data removed]"
     },
     "metadata": {
      "jupyter-vega3": "#1b54519e-ac5d-4d4a-9c1c-8847bb72edf6"
     },
     "output_type": "display_data"
    }
   ],
   "source": [
    "dependency = partial_dependence.get_dependency(model_prediction, X[1], ['ApplicantIncome'])\n",
    "alt.Chart(dependency).mark_line().encode(\n",
    "    x='ApplicantIncome',\n",
    "    y='predicted_1'\n",
    ")"
   ]
  },
  {
   "cell_type": "code",
   "execution_count": 117,
   "metadata": {
    "ExecuteTime": {
     "end_time": "2019-04-14T20:51:31.613808Z",
     "start_time": "2019-04-14T20:51:28.740365Z"
    },
    "colab": {
     "base_uri": "https://localhost:8080/",
     "height": 348
    },
    "colab_type": "code",
    "id": "91oJjJnXJlNU",
    "outputId": "7d3cceda-a7d2-4542-9e09-f5a58fdb658b"
   },
   "outputs": [
    {
     "name": "stderr",
     "output_type": "stream",
     "text": [
      "2019-04-14 23:51:28,852 - skater.core.explanations - WARNING - Progress bars slow down runs by 10-20%. For slightly \n",
      "faster runs, do progressbar=False\n"
     ]
    },
    {
     "name": "stdout",
     "output_type": "stream",
     "text": [
      "[100/100] grid cells ████████████████████ Time elapsed: 2 seconds"
     ]
    },
    {
     "data": {
      "text/html": [
       "<div class=\"vega-embed\" id=\"8f317567-a181-4a6b-963e-3699d9f616b1\"></div>\n",
       "\n",
       "<style>\n",
       ".vega-embed .vega-actions > a {\n",
       "    transition: opacity 200ms ease-in;\n",
       "    opacity: 0.3;\n",
       "    margin-right: 0.6em;\n",
       "    color: #444;\n",
       "    text-decoration: none;\n",
       "}\n",
       "\n",
       ".vega-embed .vega-actions > a:hover {\n",
       "    color: #000;\n",
       "    text-decoration: underline;\n",
       "}\n",
       "\n",
       ".vega-embed:hover .vega-actions > a {\n",
       "    opacity: 1;\n",
       "    transition: 0s;\n",
       "}\n",
       "\n",
       ".vega-embed .error p {\n",
       "    color: firebrick;\n",
       "    font-size: 1.2em;\n",
       "}\n",
       "</style>\n"
      ]
     },
     "metadata": {
      "jupyter-vega3": "#8f317567-a181-4a6b-963e-3699d9f616b1"
     },
     "output_type": "display_data"
    },
    {
     "data": {
      "application/javascript": [
       "var spec = {\"config\": {\"view\": {\"width\": 400, \"height\": 300}}, \"data\": {\"name\": \"data-0a80abdf031d9397724995c8161f4b9c\"}, \"mark\": \"rect\", \"encoding\": {\"color\": {\"type\": \"quantitative\", \"field\": \"predicted_1\"}, \"x\": {\"type\": \"ordinal\", \"field\": \"LoanAmount\"}, \"y\": {\"type\": \"ordinal\", \"field\": \"ApplicantIncome\"}}, \"$schema\": \"https://vega.github.io/schema/vega-lite/v2.6.0.json\", \"datasets\": {\"data-0a80abdf031d9397724995c8161f4b9c\": [{\"ApplicantIncome\": 2008.75, \"LoanAmount\": 57.5, \"predicted_1\": 0.8143999999999955, \"sd_estimate\": 0.00639942497416759, \"sd_prediction\": 0.20236758633733778}, {\"ApplicantIncome\": 2525.0, \"LoanAmount\": 57.5, \"predicted_1\": 0.8207999999999941, \"sd_estimate\": 0.00656561954426238, \"sd_prediction\": 0.2076231200998582}, {\"ApplicantIncome\": 3039.0, \"LoanAmount\": 57.5, \"predicted_1\": 0.8004999999999958, \"sd_estimate\": 0.007642627166099386, \"sd_prediction\": 0.24168109152352057}, {\"ApplicantIncome\": 3275.5, \"LoanAmount\": 57.5, \"predicted_1\": 0.7651999999999959, \"sd_estimate\": 0.007331368221553191, \"sd_prediction\": 0.23183821945486038}, {\"ApplicantIncome\": 3692.75, \"LoanAmount\": 57.5, \"predicted_1\": 0.7869999999999957, \"sd_estimate\": 0.007590191038439017, \"sd_prediction\": 0.24002291557265937}, {\"ApplicantIncome\": 4191.0, \"LoanAmount\": 57.5, \"predicted_1\": 0.7616999999999967, \"sd_estimate\": 0.008025154827166918, \"sd_prediction\": 0.25377767829342374}, {\"ApplicantIncome\": 4725.5, \"LoanAmount\": 57.5, \"predicted_1\": 0.6850999999999983, \"sd_estimate\": 0.0077889659133931494, \"sd_prediction\": 0.2463087290373615}, {\"ApplicantIncome\": 5975.25, \"LoanAmount\": 57.5, \"predicted_1\": 0.6876999999999989, \"sd_estimate\": 0.007792221121092499, \"sd_prediction\": 0.24641166774323012}, {\"ApplicantIncome\": 8333.0, \"LoanAmount\": 57.5, \"predicted_1\": 0.6905000000000006, \"sd_estimate\": 0.007343006877294894, \"sd_prediction\": 0.23220626606532413}, {\"ApplicantIncome\": 12645.75, \"LoanAmount\": 57.5, \"predicted_1\": 0.7291999999999985, \"sd_estimate\": 0.007392385271345066, \"sd_prediction\": 0.23376774798932265}, {\"ApplicantIncome\": 2008.75, \"LoanAmount\": 81.0, \"predicted_1\": 0.733999999999999, \"sd_estimate\": 0.007223849389349158, \"sd_prediction\": 0.22843817544359832}, {\"ApplicantIncome\": 2525.0, \"LoanAmount\": 81.0, \"predicted_1\": 0.7411999999999962, \"sd_estimate\": 0.007379875337700485, \"sd_prediction\": 0.23337214915237817}, {\"ApplicantIncome\": 3039.0, \"LoanAmount\": 81.0, \"predicted_1\": 0.7172999999999987, \"sd_estimate\": 0.00835288632749185, \"sd_prediction\": 0.26414145831353375}, {\"ApplicantIncome\": 3275.5, \"LoanAmount\": 81.0, \"predicted_1\": 0.6704000000000014, \"sd_estimate\": 0.007886941105396925, \"sd_prediction\": 0.249406976646604}, {\"ApplicantIncome\": 3692.75, \"LoanAmount\": 81.0, \"predicted_1\": 0.7154999999999985, \"sd_estimate\": 0.00804548009754542, \"sd_prediction\": 0.254420419777972}, {\"ApplicantIncome\": 4191.0, \"LoanAmount\": 81.0, \"predicted_1\": 0.6948999999999994, \"sd_estimate\": 0.008670870198544076, \"sd_prediction\": 0.2741969912307569}, {\"ApplicantIncome\": 4725.5, \"LoanAmount\": 81.0, \"predicted_1\": 0.6124999999999998, \"sd_estimate\": 0.008516674820609287, \"sd_prediction\": 0.26932090524131286}, {\"ApplicantIncome\": 5975.25, \"LoanAmount\": 81.0, \"predicted_1\": 0.6151000000000001, \"sd_estimate\": 0.00858498631332629, \"sd_prediction\": 0.2714811043148302}, {\"ApplicantIncome\": 8333.0, \"LoanAmount\": 81.0, \"predicted_1\": 0.6697000000000001, \"sd_estimate\": 0.007668892358091892, \"sd_prediction\": 0.24251166982229994}, {\"ApplicantIncome\": 12645.75, \"LoanAmount\": 81.0, \"predicted_1\": 0.6927999999999996, \"sd_estimate\": 0.007975472399801774, \"sd_prediction\": 0.25220658199182644}, {\"ApplicantIncome\": 2008.75, \"LoanAmount\": 100.0, \"predicted_1\": 0.7836999999999971, \"sd_estimate\": 0.008194163166547282, \"sd_prediction\": 0.2591221912534706}, {\"ApplicantIncome\": 2525.0, \"LoanAmount\": 100.0, \"predicted_1\": 0.7908999999999949, \"sd_estimate\": 0.008370614672770465, \"sd_prediction\": 0.26470207781579685}, {\"ApplicantIncome\": 3039.0, \"LoanAmount\": 100.0, \"predicted_1\": 0.7733999999999974, \"sd_estimate\": 0.009007354772628814, \"sd_prediction\": 0.2848375677469513}, {\"ApplicantIncome\": 3275.5, \"LoanAmount\": 100.0, \"predicted_1\": 0.7264999999999984, \"sd_estimate\": 0.008701020055142982, \"sd_prediction\": 0.2751504134105569}, {\"ApplicantIncome\": 3692.75, \"LoanAmount\": 100.0, \"predicted_1\": 0.7892999999999989, \"sd_estimate\": 0.009019728931625422, \"sd_prediction\": 0.28522887301253474}, {\"ApplicantIncome\": 4191.0, \"LoanAmount\": 100.0, \"predicted_1\": 0.7814999999999988, \"sd_estimate\": 0.00930202934848091, \"sd_prediction\": 0.2941559960293181}, {\"ApplicantIncome\": 4725.5, \"LoanAmount\": 100.0, \"predicted_1\": 0.7525999999999995, \"sd_estimate\": 0.00949490600269429, \"sd_prediction\": 0.300255291377188}, {\"ApplicantIncome\": 5975.25, \"LoanAmount\": 100.0, \"predicted_1\": 0.7666999999999976, \"sd_estimate\": 0.009672699209631147, \"sd_prediction\": 0.30587760624144916}, {\"ApplicantIncome\": 8333.0, \"LoanAmount\": 100.0, \"predicted_1\": 0.7810999999999971, \"sd_estimate\": 0.008888913881909323, \"sd_prediction\": 0.2810921379192244}, {\"ApplicantIncome\": 12645.75, \"LoanAmount\": 100.0, \"predicted_1\": 0.7478999999999977, \"sd_estimate\": 0.008715250426694573, \"sd_prediction\": 0.2756004172710918}, {\"ApplicantIncome\": 2008.75, \"LoanAmount\": 110.5, \"predicted_1\": 0.7966999999999976, \"sd_estimate\": 0.00827641891158244, \"sd_prediction\": 0.26172334630292243}, {\"ApplicantIncome\": 2525.0, \"LoanAmount\": 110.5, \"predicted_1\": 0.8000999999999948, \"sd_estimate\": 0.008522323040110639, \"sd_prediction\": 0.2694995176248014}, {\"ApplicantIncome\": 3039.0, \"LoanAmount\": 110.5, \"predicted_1\": 0.7884999999999981, \"sd_estimate\": 0.009008759626052895, \"sd_prediction\": 0.2848819931129391}, {\"ApplicantIncome\": 3275.5, \"LoanAmount\": 110.5, \"predicted_1\": 0.733899999999997, \"sd_estimate\": 0.008637174885343015, \"sd_prediction\": 0.273131451868876}, {\"ApplicantIncome\": 3692.75, \"LoanAmount\": 110.5, \"predicted_1\": 0.8032999999999987, \"sd_estimate\": 0.008999950555419694, \"sd_prediction\": 0.28460342584023696}, {\"ApplicantIncome\": 4191.0, \"LoanAmount\": 110.5, \"predicted_1\": 0.8031999999999975, \"sd_estimate\": 0.00920053041949216, \"sd_prediction\": 0.29094631807259663}, {\"ApplicantIncome\": 4725.5, \"LoanAmount\": 110.5, \"predicted_1\": 0.7792000000000002, \"sd_estimate\": 0.009229699886778539, \"sd_prediction\": 0.29186873762018395}, {\"ApplicantIncome\": 5975.25, \"LoanAmount\": 110.5, \"predicted_1\": 0.7932999999999986, \"sd_estimate\": 0.009327652973819349, \"sd_prediction\": 0.29496628620912074}, {\"ApplicantIncome\": 8333.0, \"LoanAmount\": 110.5, \"predicted_1\": 0.7971999999999969, \"sd_estimate\": 0.00887649480369364, \"sd_prediction\": 0.280699412183211}, {\"ApplicantIncome\": 12645.75, \"LoanAmount\": 110.5, \"predicted_1\": 0.7639999999999968, \"sd_estimate\": 0.008626934565649558, \"sd_prediction\": 0.27280762452687995}, {\"ApplicantIncome\": 2008.75, \"LoanAmount\": 115.75, \"predicted_1\": 0.786699999999997, \"sd_estimate\": 0.008393635088565657, \"sd_prediction\": 0.2654300472817661}, {\"ApplicantIncome\": 2525.0, \"LoanAmount\": 115.75, \"predicted_1\": 0.7900999999999962, \"sd_estimate\": 0.008642452776845272, \"sd_prediction\": 0.2732983534527798}, {\"ApplicantIncome\": 3039.0, \"LoanAmount\": 115.75, \"predicted_1\": 0.7827999999999978, \"sd_estimate\": 0.009254413001374006, \"sd_prediction\": 0.2926502349221682}, {\"ApplicantIncome\": 3275.5, \"LoanAmount\": 115.75, \"predicted_1\": 0.7110999999999965, \"sd_estimate\": 0.008751387889929232, \"sd_prediction\": 0.276743184197913}, {\"ApplicantIncome\": 3692.75, \"LoanAmount\": 115.75, \"predicted_1\": 0.8085999999999993, \"sd_estimate\": 0.009180742889330957, \"sd_prediction\": 0.29032058142680983}, {\"ApplicantIncome\": 4191.0, \"LoanAmount\": 115.75, \"predicted_1\": 0.8181999999999965, \"sd_estimate\": 0.00924925726747832, \"sd_prediction\": 0.29248719630096714}, {\"ApplicantIncome\": 4725.5, \"LoanAmount\": 115.75, \"predicted_1\": 0.7941999999999979, \"sd_estimate\": 0.009195996955197431, \"sd_prediction\": 0.2908029573439727}, {\"ApplicantIncome\": 5975.25, \"LoanAmount\": 115.75, \"predicted_1\": 0.8117999999999973, \"sd_estimate\": 0.00937767348546537, \"sd_prediction\": 0.29654807367440483}, {\"ApplicantIncome\": 8333.0, \"LoanAmount\": 115.75, \"predicted_1\": 0.8156999999999968, \"sd_estimate\": 0.008948939043260886, \"sd_prediction\": 0.2829903001871249}, {\"ApplicantIncome\": 12645.75, \"LoanAmount\": 115.75, \"predicted_1\": 0.7824999999999956, \"sd_estimate\": 0.008718012961678848, \"sd_prediction\": 0.27568777629775393}, {\"ApplicantIncome\": 2008.75, \"LoanAmount\": 128.25, \"predicted_1\": 0.7703999999999979, \"sd_estimate\": 0.008252505074218378, \"sd_prediction\": 0.2609671243662697}, {\"ApplicantIncome\": 2525.0, \"LoanAmount\": 128.25, \"predicted_1\": 0.773799999999997, \"sd_estimate\": 0.008489614832252452, \"sd_prediction\": 0.2684651932746605}, {\"ApplicantIncome\": 3039.0, \"LoanAmount\": 128.25, \"predicted_1\": 0.766499999999998, \"sd_estimate\": 0.009084478521081973, \"sd_prediction\": 0.28727643481497}, {\"ApplicantIncome\": 3275.5, \"LoanAmount\": 128.25, \"predicted_1\": 0.6960999999999966, \"sd_estimate\": 0.008442439813229334, \"sd_prediction\": 0.2669733881869123}, {\"ApplicantIncome\": 3692.75, \"LoanAmount\": 128.25, \"predicted_1\": 0.7935999999999973, \"sd_estimate\": 0.00890724648811297, \"sd_prediction\": 0.281671865829729}, {\"ApplicantIncome\": 4191.0, \"LoanAmount\": 128.25, \"predicted_1\": 0.8000999999999956, \"sd_estimate\": 0.008951535622450522, \"sd_prediction\": 0.2830724112307673}, {\"ApplicantIncome\": 4725.5, \"LoanAmount\": 128.25, \"predicted_1\": 0.7699999999999975, \"sd_estimate\": 0.008811356308764293, \"sd_prediction\": 0.27863955210989033}, {\"ApplicantIncome\": 5975.25, \"LoanAmount\": 128.25, \"predicted_1\": 0.7875999999999966, \"sd_estimate\": 0.009035830897045438, \"sd_prediction\": 0.28573806186785994}, {\"ApplicantIncome\": 8333.0, \"LoanAmount\": 128.25, \"predicted_1\": 0.7891999999999995, \"sd_estimate\": 0.008845527683524642, \"sd_prediction\": 0.2797201458601093}, {\"ApplicantIncome\": 12645.75, \"LoanAmount\": 128.25, \"predicted_1\": 0.7559999999999985, \"sd_estimate\": 0.008762648001603169, \"sd_prediction\": 0.2770992601938879}, {\"ApplicantIncome\": 2008.75, \"LoanAmount\": 136.75, \"predicted_1\": 0.7750999999999977, \"sd_estimate\": 0.008392257741513887, \"sd_prediction\": 0.26538649174364504}, {\"ApplicantIncome\": 2525.0, \"LoanAmount\": 136.75, \"predicted_1\": 0.7784999999999971, \"sd_estimate\": 0.008630628598196083, \"sd_prediction\": 0.27292444009285804}, {\"ApplicantIncome\": 3039.0, \"LoanAmount\": 136.75, \"predicted_1\": 0.7686999999999976, \"sd_estimate\": 0.009257986282124183, \"sd_prediction\": 0.29276323198106613}, {\"ApplicantIncome\": 3275.5, \"LoanAmount\": 136.75, \"predicted_1\": 0.6982999999999966, \"sd_estimate\": 0.008801540206122989, \"sd_prediction\": 0.27832913968896517}, {\"ApplicantIncome\": 3692.75, \"LoanAmount\": 136.75, \"predicted_1\": 0.7958000000000001, \"sd_estimate\": 0.009228345463841273, \"sd_prediction\": 0.2918259070062146}, {\"ApplicantIncome\": 4191.0, \"LoanAmount\": 136.75, \"predicted_1\": 0.8022999999999955, \"sd_estimate\": 0.009057853498484099, \"sd_prediction\": 0.2864344776733426}, {\"ApplicantIncome\": 4725.5, \"LoanAmount\": 136.75, \"predicted_1\": 0.772199999999997, \"sd_estimate\": 0.008888597189658223, \"sd_prediction\": 0.28108212323091636}, {\"ApplicantIncome\": 5975.25, \"LoanAmount\": 136.75, \"predicted_1\": 0.7897999999999963, \"sd_estimate\": 0.009118988979048061, \"sd_prediction\": 0.2883677513176534}, {\"ApplicantIncome\": 8333.0, \"LoanAmount\": 136.75, \"predicted_1\": 0.7890999999999982, \"sd_estimate\": 0.008862910921362129, \"sd_prediction\": 0.28026985210685806}, {\"ApplicantIncome\": 12645.75, \"LoanAmount\": 136.75, \"predicted_1\": 0.7558999999999979, \"sd_estimate\": 0.008800294881423015, \"sd_prediction\": 0.27828975906418135}, {\"ApplicantIncome\": 2008.75, \"LoanAmount\": 176.5, \"predicted_1\": 0.685799999999997, \"sd_estimate\": 0.00730331157763378, \"sd_prediction\": 0.23095099047200385}, {\"ApplicantIncome\": 2525.0, \"LoanAmount\": 176.5, \"predicted_1\": 0.6796999999999975, \"sd_estimate\": 0.007459082383242582, \"sd_prediction\": 0.2358768958588353}, {\"ApplicantIncome\": 3039.0, \"LoanAmount\": 176.5, \"predicted_1\": 0.6557999999999984, \"sd_estimate\": 0.007860430013682496, \"sd_prediction\": 0.24856862231585186}, {\"ApplicantIncome\": 3275.5, \"LoanAmount\": 176.5, \"predicted_1\": 0.5578999999999992, \"sd_estimate\": 0.007700492841370611, \"sd_prediction\": 0.2435109648455281}, {\"ApplicantIncome\": 3692.75, \"LoanAmount\": 176.5, \"predicted_1\": 0.6253000000000001, \"sd_estimate\": 0.008374360274074675, \"sd_prediction\": 0.2648205241290789}, {\"ApplicantIncome\": 4191.0, \"LoanAmount\": 176.5, \"predicted_1\": 0.6808999999999978, \"sd_estimate\": 0.008878355140452506, \"sd_prediction\": 0.28075824119694054}, {\"ApplicantIncome\": 4725.5, \"LoanAmount\": 176.5, \"predicted_1\": 0.6834999999999981, \"sd_estimate\": 0.008978738775574212, \"sd_prediction\": 0.2839326504648592}, {\"ApplicantIncome\": 5975.25, \"LoanAmount\": 176.5, \"predicted_1\": 0.6483999999999991, \"sd_estimate\": 0.008839538449489344, \"sd_prediction\": 0.27953074965019586}, {\"ApplicantIncome\": 8333.0, \"LoanAmount\": 176.5, \"predicted_1\": 0.6051000000000001, \"sd_estimate\": 0.0077151791942896425, \"sd_prediction\": 0.2439753881029801}, {\"ApplicantIncome\": 12645.75, \"LoanAmount\": 176.5, \"predicted_1\": 0.6270999999999994, \"sd_estimate\": 0.007947049137887546, \"sd_prediction\": 0.25130775953002166}, {\"ApplicantIncome\": 2008.75, \"LoanAmount\": 223.25, \"predicted_1\": 0.7066999999999951, \"sd_estimate\": 0.007085556435453724, \"sd_prediction\": 0.22406496825697605}, {\"ApplicantIncome\": 2525.0, \"LoanAmount\": 223.25, \"predicted_1\": 0.699199999999995, \"sd_estimate\": 0.007352507055419966, \"sd_prediction\": 0.23250668807584948}, {\"ApplicantIncome\": 3039.0, \"LoanAmount\": 223.25, \"predicted_1\": 0.6801999999999979, \"sd_estimate\": 0.008014234835590973, \"sd_prediction\": 0.2534323578393254}, {\"ApplicantIncome\": 3275.5, \"LoanAmount\": 223.25, \"predicted_1\": 0.5932999999999998, \"sd_estimate\": 0.007883216982932761, \"sd_prediction\": 0.24928920955388245}, {\"ApplicantIncome\": 3692.75, \"LoanAmount\": 223.25, \"predicted_1\": 0.6346999999999993, \"sd_estimate\": 0.008491519887511302, \"sd_prediction\": 0.268525436411525}, {\"ApplicantIncome\": 4191.0, \"LoanAmount\": 223.25, \"predicted_1\": 0.6902999999999978, \"sd_estimate\": 0.008620667607558008, \"sd_prediction\": 0.27260944591117875}, {\"ApplicantIncome\": 4725.5, \"LoanAmount\": 223.25, \"predicted_1\": 0.6928999999999974, \"sd_estimate\": 0.008682142016806674, \"sd_prediction\": 0.27455343742156985}, {\"ApplicantIncome\": 5975.25, \"LoanAmount\": 223.25, \"predicted_1\": 0.6721999999999998, \"sd_estimate\": 0.008592273273121589, \"sd_prediction\": 0.27171153821654237}, {\"ApplicantIncome\": 8333.0, \"LoanAmount\": 223.25, \"predicted_1\": 0.6358000000000004, \"sd_estimate\": 0.00779348189194025, \"sd_prediction\": 0.24645153681809445}, {\"ApplicantIncome\": 12645.75, \"LoanAmount\": 223.25, \"predicted_1\": 0.6734000000000002, \"sd_estimate\": 0.00823483090293904, \"sd_prediction\": 0.2604082179962833}, {\"ApplicantIncome\": 2008.75, \"LoanAmount\": 301.0, \"predicted_1\": 0.5910000000000014, \"sd_estimate\": 0.005936244604124742, \"sd_prediction\": 0.18772053696918756}, {\"ApplicantIncome\": 2525.0, \"LoanAmount\": 301.0, \"predicted_1\": 0.5855000000000008, \"sd_estimate\": 0.006180594631586828, \"sd_prediction\": 0.1954475633002364}, {\"ApplicantIncome\": 3039.0, \"LoanAmount\": 301.0, \"predicted_1\": 0.5622000000000003, \"sd_estimate\": 0.0065887145939097875, \"sd_prediction\": 0.20835344969546296}, {\"ApplicantIncome\": 3275.5, \"LoanAmount\": 301.0, \"predicted_1\": 0.5181000000000026, \"sd_estimate\": 0.006758874906373111, \"sd_prediction\": 0.21373439124296334}, {\"ApplicantIncome\": 3692.75, \"LoanAmount\": 301.0, \"predicted_1\": 0.5513000000000005, \"sd_estimate\": 0.0071511055089405594, \"sd_prediction\": 0.22613781196429758}, {\"ApplicantIncome\": 4191.0, \"LoanAmount\": 301.0, \"predicted_1\": 0.5843999999999998, \"sd_estimate\": 0.0073114047897787846, \"sd_prediction\": 0.23120692031165535}, {\"ApplicantIncome\": 4725.5, \"LoanAmount\": 301.0, \"predicted_1\": 0.6481999999999992, \"sd_estimate\": 0.008171704840484672, \"sd_prediction\": 0.25841199662554487}, {\"ApplicantIncome\": 5975.25, \"LoanAmount\": 301.0, \"predicted_1\": 0.6436999999999989, \"sd_estimate\": 0.008119132342806095, \"sd_prediction\": 0.2567495082760627}, {\"ApplicantIncome\": 8333.0, \"LoanAmount\": 301.0, \"predicted_1\": 0.5351000000000007, \"sd_estimate\": 0.006861340248085673, \"sd_prediction\": 0.2169746298533549}, {\"ApplicantIncome\": 12645.75, \"LoanAmount\": 301.0, \"predicted_1\": 0.6416999999999989, \"sd_estimate\": 0.007881060207865397, \"sd_prediction\": 0.24922100633774708}]}};\n",
       "var opt = {};\n",
       "var selector = \"#8f317567-a181-4a6b-963e-3699d9f616b1\";\n",
       "var type = \"vega-lite\";\n",
       "\n",
       "var output_area = this;\n",
       "\n",
       "require(['nbextensions/jupyter-vega3/index'], function(vega) {\n",
       "  vega.render(selector, spec, type, opt, output_area);\n",
       "}, function (err) {\n",
       "  if (err.requireType !== 'scripterror') {\n",
       "    throw(err);\n",
       "  }\n",
       "});\n"
      ]
     },
     "metadata": {
      "jupyter-vega3": "#8f317567-a181-4a6b-963e-3699d9f616b1"
     },
     "output_type": "display_data"
    },
    {
     "data": {
      "text/plain": []
     },
     "execution_count": 117,
     "metadata": {},
     "output_type": "execute_result"
    },
    {
     "data": {
      "image/png": "[encoded data removed]"
     },
     "metadata": {
      "jupyter-vega3": "#8f317567-a181-4a6b-963e-3699d9f616b1"
     },
     "output_type": "display_data"
    }
   ],
   "source": [
    "dependency = partial_dependence.get_dependency(model_prediction, \n",
    "                                               X[1], \n",
    "                                               ['LoanAmount', 'ApplicantIncome'],\n",
    "                                               resolution=10)\n",
    "\n",
    "alt.Chart(dependency).mark_rect().encode(\n",
    "    x='LoanAmount:O',\n",
    "    y='ApplicantIncome:O',\n",
    "    color='predicted_1:Q'\n",
    ")"
   ]
  },
  {
   "cell_type": "markdown",
   "metadata": {
    "colab_type": "text",
    "id": "Szp7nYlySZmc"
   },
   "source": [
    "### TreeSurrogates (Experimental)"
   ]
  },
  {
   "cell_type": "code",
   "execution_count": 118,
   "metadata": {
    "ExecuteTime": {
     "end_time": "2019-04-14T20:51:31.950991Z",
     "start_time": "2019-04-14T20:51:31.906077Z"
    },
    "colab": {
     "base_uri": "https://localhost:8080/",
     "height": 3216
    },
    "colab_type": "code",
    "id": "wTqbz864SkKv",
    "outputId": "ff28e9e6-2ea5-4a2d-e983-4c2c55a487f4"
   },
   "outputs": [
    {
     "name": "stdout",
     "output_type": "stream",
     "text": [
      "Help on class TreeSurrogate in module skater.core.global_interpretation.tree_surrogate:\n",
      "\n",
      "class TreeSurrogate(builtins.object)\n",
      " |  :: Experimental :: The implementation is currently experimental and might change in future.\n",
      " |  The idea of using TreeSurrogates as means for explaining a model's(Oracle or the base model)\n",
      " |  learned decision policies(for inductive learning tasks) is inspired by the work of Mark W. Craven\n",
      " |  described as the TREPAN algorithm. In this explanation learning hypothesis, the base estimator(Oracle)\n",
      " |  could be any form of supervised learning predictive models. The explanations are approximated using\n",
      " |  DecisionTrees(both for Classification/Regression) by learning decision boundaries similar to that learned by\n",
      " |  the Oracle(predictions from the base model are used for learning the DecisionTree representation).\n",
      " |  The implementation also generates a fidelity score to quantify tree based surrogate model's\n",
      " |  approximation to the Oracle. Ideally, the score should be 0 for truthful explanation\n",
      " |  both globally and locally.\n",
      " |  \n",
      " |  Parameters\n",
      " |  ----------\n",
      " |  oracle : InMemory instance type\n",
      " |      model instance having access to the base estimator(InMemory/DeployedModel).\n",
      " |      Currently, only InMemory is supported.\n",
      " |  splitter : str (default=\"best\")\n",
      " |      Strategy used to split at each the node. Supported strategies(\"best\" or \"random\").\n",
      " |  max_depth : int (default=None)\n",
      " |      Defines the maximum depth of a tree. If 'None' then nodes are expanded till all leaves are         pure or contain less than min_samples_split samples.\n",
      " |      Deeper trees are prone to be more expensive and tend to over-fit.\n",
      " |      Pruning is a technique which could be applied to avoid over-fitting.\n",
      " |  min_samples_split : int/float (default=2)\n",
      " |      Defines the minimum number of samples required to split an internal node:\n",
      " |  \n",
      " |      - int, specifies the minimum number of samples\n",
      " |      - float, then represents a percentage. Minimum number of samples is computed as           `ceil(min_samples_split*n_samples)`\n",
      " |  \n",
      " |  min_samples_leaf : int/float (default=1)\n",
      " |      Defines requirement for a leaf node. The minimum number of samples needed to be a leaf node:\n",
      " |  \n",
      " |      - int, specifies the minimum number of samples\n",
      " |      - float, then represents a percentage. Minimum number of samples is computed as           `ceil(min_samples_split*n_samples)\n",
      " |  \n",
      " |  min_weight_fraction_leaf : float (default=0.0)\n",
      " |      Defines requirement for a leaf node. The minimum weight percentage of the sum total of the weights of         all input samples.\n",
      " |  max_features : int, float, string or None (default=None)\n",
      " |      Defines number of features to consider for the best possible split:\n",
      " |  \n",
      " |      - None, all specified features are used (oracle.feature_names)\n",
      " |      - int, uses specified values as `max_features` at each split.\n",
      " |      - float, as a percentage. Value for split is computed as `int(max_features * n_features)`.\n",
      " |      - \"auto\", `max_features=sqrt(n_features)`.\n",
      " |      - \"sqrt\", `max_features=sqrt(n_features)`.\n",
      " |      - \"log2\", `max_features=log2(n_features)`.\n",
      " |  \n",
      " |  seed : int, (default=None)\n",
      " |      seed for random number generator\n",
      " |  max_leaf_nodes : int or None (default=None)\n",
      " |      TreeSurrogates are constructed top-down in best first manner(best decrease in relative impurity).\n",
      " |      If None, results in maximum possible number of leaf nodes. This tends to over-fitting.\n",
      " |  min_impurity_decrease : float (default=0.0)\n",
      " |      Tree node is considered for splitting if relative decrease in impurity is >= `min_impurity_decrease`.\n",
      " |  class_weight : dict, list of dicts, str (\"balanced\" or None) (default=\"balanced\")\n",
      " |      Weights associated with classes for handling data imbalance:\n",
      " |  \n",
      " |      - None, all classes have equal weights\n",
      " |      - \"balanced\", adjusts the class weights automatically. Weights are assigned inversely proportional           to class frequencies ``n_samples / (n_classes * np.bincount(y))``\n",
      " |  \n",
      " |  presort : bool (default=False)\n",
      " |      Sorts the data before building surrogates trees to find the best splits. When dealing with larger datasets,         setting it to True might result in increasing computation time because of the pre sorting operation.\n",
      " |  impurity_threshold : float (default=0.01)\n",
      " |      Specifies the acceptable disparity between the Oracle and TreeSurrogates. The higher the difference between         the Oracle and TreeSurrogate less faithful are the explanations generated.\n",
      " |  \n",
      " |  Attributes\n",
      " |  ----------\n",
      " |  oracle : skater.model.local_model.InMemoryModel\n",
      " |      The fitted base model with the prediction function\n",
      " |  feature_names: list of str\n",
      " |      Names of the features considered.\n",
      " |  estimator_ : DecisionTreeClassifier/DecisionTreeRegressor\n",
      " |      The Surrogate estimator.\n",
      " |  estimator_type_ : str\n",
      " |      Surrogate estimator type (\"classifier\" or \"regressor\").\n",
      " |  best_score_ : numpy.float64\n",
      " |      Surrogate estimator's best score post pre-pruning.\n",
      " |  scorer_name_ : str\n",
      " |      Scorer used for optimizing the surrogate estimator\n",
      " |  \n",
      " |  Examples\n",
      " |  --------\n",
      " |  >>> from skater.core.explanations import Interpretation\n",
      " |  >>> from skater.model import InMemoryModel\n",
      " |  >>> from skater.util.logger import _INFO\n",
      " |  >>> interpreter = Interpretation(X_train, feature_names=iris.feature_names)\n",
      " |  >>> model_inst = InMemoryModel(clf.predict, examples=X_train, model_type='classifier', unique_values=[0, 1],\n",
      " |  >>>                       feature_names=iris.feature_names, target_names=iris.target_names, log_level=_INFO)\n",
      " |  >>> # Using the interpreter instance invoke call to the TreeSurrogate\n",
      " |  >>> surrogate_explainer = interpreter.tree_surrogate(oracle=model_inst, seed=5)\n",
      " |  >>> surrogate_explainer.fit(X_train, y_train, use_oracle=True, prune='post', scorer_type='default')\n",
      " |  >>> surrogate_explainer.plot_global_decisions(colors=['coral', 'lightsteelblue','darkkhaki'],\n",
      " |  >>>                                          file_name='simple_tree_pre.png')\n",
      " |  >>> show_in_notebook('simple_tree_pre.png', width=400, height=300)\n",
      " |  \n",
      " |  References\n",
      " |  ----------\n",
      " |  .. [1] Mark W. Craven(1996) EXTRACTING COMPREHENSIBLE MODELS FROM TRAINED NEURAL NETWORKS\n",
      " |         (http://ftp.cs.wisc.edu/machine-learning/shavlik-group/craven.thesis.pdf)\n",
      " |  .. [2] Mark W. Craven and Jude W. Shavlik(NIPS, 96). Extracting Thee-Structured Representations of Thained Networks\n",
      " |         (https://papers.nips.cc/paper/1152-extracting-tree-structured-representations-of-trained-networks.pdf)\n",
      " |  .. [3] DecisionTreeClassifier: http://scikit-learn.org/stable/modules/generated/sklearn.tree.DecisionTreeClassifier.html\n",
      " |  .. [4] DecisionTreeRegressor: http://scikit-learn.org/stable/modules/generated/sklearn.tree.DecisionTreeRegressor.html\n",
      " |  \n",
      " |  Methods defined here:\n",
      " |  \n",
      " |  __init__(self, oracle=None, splitter='best', max_depth=None, min_samples_split=2, min_samples_leaf=1, min_weight_fraction_leaf=0.0, max_features=None, seed=None, max_leaf_nodes=None, min_impurity_decrease=0.0, min_impurity_split=None, class_weight='balanced', presort=False, impurity_threshold=0.01)\n",
      " |      Initialize self.  See help(type(self)) for accurate signature.\n",
      " |  \n",
      " |  decisions_as_txt(self, scope='global', X=None)\n",
      " |      Retrieve the decision policies as text\n",
      " |  \n",
      " |  fit(self, X, Y, use_oracle=True, prune='post', cv=5, n_iter_search=10, scorer_type='default', n_jobs=1, param_grid=None, impurity_threshold=0.01, verbose=False)\n",
      " |      Learn an approximate representation by constructing a Decision Tree based on the results retrieved by\n",
      " |      querying the Oracle(base model). Instances used for training should belong to the base learners instance space.\n",
      " |      \n",
      " |      Parameters\n",
      " |      ----------\n",
      " |      X : numpy.ndarray, pandas.DataFrame\n",
      " |          Training input samples\n",
      " |      Y : numpy.ndarray, target values(ground truth)\n",
      " |      use_oracle : bool (defaul=True)\n",
      " |          Use of Oracle, helps the Surrogate model train on the decision boundaries learned by the base model.             The closer the surrogate model is to the Oracle, more faithful are the explanations.\n",
      " |      \n",
      " |            - True, builds a surrogate model against the predictions of the base model(Oracle).\n",
      " |            - False, learns an interpretable tree based model using the supplied training examples and ground truth.\n",
      " |      \n",
      " |      prune : None, str (default=\"post\")\n",
      " |          Pruning is a useful technique to control the complexity of the tree (keeping the trees comprehensive             and interpretable) without compromising on model's accuracy. Avoiding to build large and deep trees             also helps in preventing over-fitting.\n",
      " |      \n",
      " |            - \"pre\"\n",
      " |            Also known as forward/online pruning. This pruning process uses a termination               condition(high and low thresholds) to prematurely terminate some of the branches and nodes.\n",
      " |            Cross Validation is applied to measure the goodness of the fit while the tree is pruned.\n",
      " |      \n",
      " |            - \"pos\"\n",
      " |            Also known as backward pruning. The pruning process is applied post the construction of the               tree using the specified model parameters. This involves reducing the branches and nodes using               a cost function. The current implementation support cost optimization using               Model's scoring metrics(e.g. r2, log-loss, f1, ...).\n",
      " |      \n",
      " |      cv : int, (default=5)\n",
      " |          Randomized cross validation used only for 'pre-pruning' right now.\n",
      " |      n_iter_search : int (default=10)\n",
      " |          Number of parameter setting combinations that are sampled for pre-pruning.\n",
      " |      scorer_type : str (default=\"default\")\n",
      " |      n_jobs : int (default=1)\n",
      " |          Number of jobs to run in parallel.\n",
      " |      param_grid : dict\n",
      " |          Dictionary of parameters to specify the termination condition for pre-pruning.\n",
      " |      impurity_threshold : float (default=0.01)\n",
      " |          Specifies acceptable performance drop when using Tree based surrogates to replicate the decision policies\n",
      " |          learned by the Oracle\n",
      " |      verbose : bool (default=False)\n",
      " |          Helps control the verbosity.\n",
      " |      \n",
      " |      References\n",
      " |      ----------\n",
      " |      .. [1] Nikita Patel and Saurabh Upadhyay(2012)\n",
      " |             Study of Various Decision Tree Pruning Methods with their Empirical Comparison in WEKA\n",
      " |             (https://pdfs.semanticscholar.org/025b/8c109c38dc115024e97eb0ede5ea873fffdb.pdf)\n",
      " |  \n",
      " |  plot_global_decisions(self, colors=None, enable_node_id=True, random_state=0, file_name='interpretable_tree.png', show_img=False, fig_size=(20, 8))\n",
      " |      Visualizes the decision policies of the surrogate tree.\n",
      " |  \n",
      " |  predict(self, X, prob_score=False)\n",
      " |      Predict for input X\n",
      " |  \n",
      " |  ----------------------------------------------------------------------\n",
      " |  Data descriptors defined here:\n",
      " |  \n",
      " |  __dict__\n",
      " |      dictionary for instance variables (if defined)\n",
      " |  \n",
      " |  __weakref__\n",
      " |      list of weak references to the object (if defined)\n",
      " |  \n",
      " |  best_score_\n",
      " |      Best score post pre-pruning\n",
      " |  \n",
      " |  estimator_\n",
      " |      Learned approximate surrogate estimator\n",
      " |  \n",
      " |  estimator_type_\n",
      " |      Estimator type\n",
      " |  \n",
      " |  scorer_name_\n",
      " |      Cost function used for optimization\n",
      "\n"
     ]
    }
   ],
   "source": [
    "help(interpreter.tree_surrogate)"
   ]
  },
  {
   "cell_type": "code",
   "execution_count": null,
   "metadata": {
    "colab": {},
    "colab_type": "code",
    "id": "Oo-gSWI2EGM0"
   },
   "outputs": [],
   "source": []
  }
 ],
 "metadata": {
  "colab": {
   "name": "loan_data.ipynb",
   "provenance": [],
   "version": "0.3.2"
  },
  "kernelspec": {
   "display_name": "Python 3",
   "language": "python",
   "name": "python3"
  },
  "language_info": {
   "codemirror_mode": {
    "name": "ipython",
    "version": 3
   },
   "file_extension": ".py",
   "mimetype": "text/x-python",
   "name": "python",
   "nbconvert_exporter": "python",
   "pygments_lexer": "ipython3",
   "version": "3.6.8"
  },
  "toc": {
   "base_numbering": 1,
   "nav_menu": {},
   "number_sections": true,
   "sideBar": true,
   "skip_h1_title": false,
   "title_cell": "Table of Contents",
   "title_sidebar": "Contents",
   "toc_cell": false,
   "toc_position": {},
   "toc_section_display": true,
   "toc_window_display": false
  },
  "varInspector": {
   "cols": {
    "lenName": 16,
    "lenType": 16,
    "lenVar": 40
   },
   "kernels_config": {
    "python": {
     "delete_cmd_postfix": "",
     "delete_cmd_prefix": "del ",
     "library": "var_list.py",
     "varRefreshCmd": "print(var_dic_list())"
    },
    "r": {
     "delete_cmd_postfix": ") ",
     "delete_cmd_prefix": "rm(",
     "library": "var_list.r",
     "varRefreshCmd": "cat(var_dic_list()) "
    }
   },
   "types_to_exclude": [
    "module",
    "function",
    "builtin_function_or_method",
    "instance",
    "_Feature"
   ],
   "window_display": false
  }
 },
 "nbformat": 4,
 "nbformat_minor": 1
}
