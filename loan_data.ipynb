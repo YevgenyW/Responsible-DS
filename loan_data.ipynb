{
 "cells": [
  {
   "cell_type": "code",
   "execution_count": 5,
   "metadata": {
    "ExecuteTime": {
     "end_time": "2019-05-07T07:10:53.217454Z",
     "start_time": "2019-05-07T07:10:53.172169Z"
    }
   },
   "outputs": [
    {
     "name": "stdout",
     "output_type": "stream",
     "text": [
      "The autoreload extension is already loaded. To reload it, use:\n",
      "  %reload_ext autoreload\n"
     ]
    }
   ],
   "source": [
    "%matplotlib inline\n",
    "%load_ext autoreload\n",
    "%autoreload 2"
   ]
  },
  {
   "cell_type": "code",
   "execution_count": 6,
   "metadata": {
    "ExecuteTime": {
     "end_time": "2019-05-07T07:10:53.437590Z",
     "start_time": "2019-05-07T07:10:53.392068Z"
    }
   },
   "outputs": [
    {
     "data": {
      "text/plain": [
       "RendererRegistry.enable('notebook')"
      ]
     },
     "execution_count": 6,
     "metadata": {},
     "output_type": "execute_result"
    }
   ],
   "source": [
    "import altair as alt\n",
    "from vega_datasets import data\n",
    "\n",
    "# for the notebook only (not for JupyterLab) run this command once per session\n",
    "alt.renderers.enable('notebook')"
   ]
  },
  {
   "cell_type": "markdown",
   "metadata": {},
   "source": [
    "# Load model"
   ]
  },
  {
   "cell_type": "code",
   "execution_count": 7,
   "metadata": {
    "ExecuteTime": {
     "end_time": "2019-05-07T07:10:53.860483Z",
     "start_time": "2019-05-07T07:10:53.816438Z"
    }
   },
   "outputs": [],
   "source": [
    "from models import loan_model\n",
    "\n",
    "# load model\n",
    "def model_prediction(x):\n",
    "    return loan_model.predict(x)\n",
    "\n",
    "def model_prediction_simple(x):\n",
    "    return loan_model.simple_predict(x)\n",
    "\n",
    "def model_classes():\n",
    "    return loan_model.classes()\n",
    "\n",
    "X = loan_model.get_data()"
   ]
  },
  {
   "cell_type": "markdown",
   "metadata": {
    "colab_type": "text",
    "id": "U3OxW_4UKXvk"
   },
   "source": [
    "# Skater (analyze model)"
   ]
  },
  {
   "cell_type": "markdown",
   "metadata": {
    "colab_type": "text",
    "id": "BrB-F9RpJT4g"
   },
   "source": [
    "## Feature importance"
   ]
  },
  {
   "cell_type": "code",
   "execution_count": 8,
   "metadata": {
    "ExecuteTime": {
     "end_time": "2019-05-07T07:10:54.985330Z",
     "start_time": "2019-05-07T07:10:54.936264Z"
    },
    "colab": {},
    "colab_type": "code",
    "id": "6C44YfoKD6po"
   },
   "outputs": [
    {
     "ename": "AttributeError",
     "evalue": "module 'src.feature_importance' has no attribute 'get_features'",
     "output_type": "error",
     "traceback": [
      "\u001b[0;31m---------------------------------------------------------------------------\u001b[0m",
      "\u001b[0;31mAttributeError\u001b[0m                            Traceback (most recent call last)",
      "\u001b[0;32m<ipython-input-8-f7fe95ffe169>\u001b[0m in \u001b[0;36m<module>\u001b[0;34m\u001b[0m\n\u001b[1;32m      1\u001b[0m \u001b[0;32mfrom\u001b[0m \u001b[0msrc\u001b[0m \u001b[0;32mimport\u001b[0m \u001b[0mfeature_importance\u001b[0m\u001b[0;34m\u001b[0m\u001b[0;34m\u001b[0m\u001b[0m\n\u001b[1;32m      2\u001b[0m \u001b[0;34m\u001b[0m\u001b[0m\n\u001b[0;32m----> 3\u001b[0;31m \u001b[0mfeatures\u001b[0m \u001b[0;34m=\u001b[0m \u001b[0mfeature_importance\u001b[0m\u001b[0;34m.\u001b[0m\u001b[0mget_features\u001b[0m\u001b[0;34m(\u001b[0m\u001b[0mmodel_prediction\u001b[0m\u001b[0;34m,\u001b[0m \u001b[0mX\u001b[0m\u001b[0;34m[\u001b[0m\u001b[0;36m1\u001b[0m\u001b[0;34m]\u001b[0m\u001b[0;34m)\u001b[0m\u001b[0;34m\u001b[0m\u001b[0;34m\u001b[0m\u001b[0m\n\u001b[0m\u001b[1;32m      4\u001b[0m \u001b[0mprint\u001b[0m\u001b[0;34m(\u001b[0m\u001b[0;34m\"Feature Importance (predict_proba)\"\u001b[0m\u001b[0;34m)\u001b[0m\u001b[0;34m\u001b[0m\u001b[0;34m\u001b[0m\u001b[0m\n\u001b[1;32m      5\u001b[0m \u001b[0mprint\u001b[0m\u001b[0;34m(\u001b[0m\u001b[0mfeatures\u001b[0m\u001b[0;34m)\u001b[0m\u001b[0;34m\u001b[0m\u001b[0;34m\u001b[0m\u001b[0m\n",
      "\u001b[0;31mAttributeError\u001b[0m: module 'src.feature_importance' has no attribute 'get_features'"
     ]
    }
   ],
   "source": [
    "from src import feature_importance\n",
    "\n",
    "features = feature_importance.get_features(model_prediction, X[1])\n",
    "print(\"Feature Importance (predict_proba)\")\n",
    "print(features)"
   ]
  },
  {
   "cell_type": "markdown",
   "metadata": {
    "colab_type": "text",
    "id": "VHS0qRcZJXli"
   },
   "source": [
    "#### Using 'predict'"
   ]
  },
  {
   "cell_type": "code",
   "execution_count": 9,
   "metadata": {
    "ExecuteTime": {
     "end_time": "2019-05-07T07:11:01.120649Z",
     "start_time": "2019-05-07T07:11:01.071914Z"
    },
    "colab": {
     "base_uri": "https://localhost:8080/",
     "height": 289
    },
    "colab_type": "code",
    "id": "qzWi58ezJlGn",
    "outputId": "b3cbf843-8b39-4ba0-92bf-6921ea3fd02c"
   },
   "outputs": [
    {
     "ename": "AttributeError",
     "evalue": "module 'src.feature_importance' has no attribute 'get_features_2'",
     "output_type": "error",
     "traceback": [
      "\u001b[0;31m---------------------------------------------------------------------------\u001b[0m",
      "\u001b[0;31mAttributeError\u001b[0m                            Traceback (most recent call last)",
      "\u001b[0;32m<ipython-input-9-05ff18a06d45>\u001b[0m in \u001b[0;36m<module>\u001b[0;34m\u001b[0m\n\u001b[0;32m----> 1\u001b[0;31m \u001b[0mfeatures_2\u001b[0m \u001b[0;34m=\u001b[0m \u001b[0mfeature_importance\u001b[0m\u001b[0;34m.\u001b[0m\u001b[0mget_features_2\u001b[0m\u001b[0;34m(\u001b[0m\u001b[0mmodel_prediction\u001b[0m\u001b[0;34m,\u001b[0m \u001b[0mX\u001b[0m\u001b[0;34m[\u001b[0m\u001b[0;36m0\u001b[0m\u001b[0;34m]\u001b[0m\u001b[0;34m,\u001b[0m \u001b[0mmodel_classes\u001b[0m\u001b[0;34m)\u001b[0m\u001b[0;34m\u001b[0m\u001b[0;34m\u001b[0m\u001b[0m\n\u001b[0m\u001b[1;32m      2\u001b[0m \u001b[0mprint\u001b[0m\u001b[0;34m(\u001b[0m\u001b[0;34m\"Feature Importance (predict)\"\u001b[0m\u001b[0;34m)\u001b[0m\u001b[0;34m\u001b[0m\u001b[0;34m\u001b[0m\u001b[0m\n\u001b[1;32m      3\u001b[0m \u001b[0mfeatures_2\u001b[0m\u001b[0;34m\u001b[0m\u001b[0;34m\u001b[0m\u001b[0m\n",
      "\u001b[0;31mAttributeError\u001b[0m: module 'src.feature_importance' has no attribute 'get_features_2'"
     ]
    }
   ],
   "source": [
    "features_2 = feature_importance.get_features_2(model_prediction, X[0], model_classes)\n",
    "print(\"Feature Importance (predict)\")\n",
    "features_2"
   ]
  },
  {
   "cell_type": "markdown",
   "metadata": {
    "colab_type": "text",
    "id": "fa44ixKjJ_NL"
   },
   "source": [
    "## partial dependence \n"
   ]
  },
  {
   "cell_type": "code",
   "execution_count": 10,
   "metadata": {
    "ExecuteTime": {
     "end_time": "2019-05-07T07:11:02.856727Z",
     "start_time": "2019-05-07T07:11:02.044641Z"
    },
    "colab": {
     "base_uri": "https://localhost:8080/",
     "height": 423
    },
    "colab_type": "code",
    "id": "KvriJLQGJlIy",
    "outputId": "b272d4e1-0d52-4524-f017-dbb6f90a7a2a"
   },
   "outputs": [
    {
     "name": "stderr",
     "output_type": "stream",
     "text": [
      "2019-05-07 10:11:02,158 - skater.core.explanations - WARNING - Progress bars slow down runs by 10-20%. For slightly \n",
      "faster runs, do progressbar=False\n"
     ]
    },
    {
     "name": "stdout",
     "output_type": "stream",
     "text": [
      "[29/29] grid cells ████████████████████ Time elapsed: 0 seconds"
     ]
    },
    {
     "data": {
      "text/html": [
       "<div class=\"vega-embed\" id=\"0727c446-662f-4d73-a270-ba5c41a3bb1b\"></div>\n",
       "\n",
       "<style>\n",
       ".vega-embed .vega-actions > a {\n",
       "    transition: opacity 200ms ease-in;\n",
       "    opacity: 0.3;\n",
       "    margin-right: 0.6em;\n",
       "    color: #444;\n",
       "    text-decoration: none;\n",
       "}\n",
       "\n",
       ".vega-embed .vega-actions > a:hover {\n",
       "    color: #000;\n",
       "    text-decoration: underline;\n",
       "}\n",
       "\n",
       ".vega-embed:hover .vega-actions > a {\n",
       "    opacity: 1;\n",
       "    transition: 0s;\n",
       "}\n",
       "\n",
       ".vega-embed .error p {\n",
       "    color: firebrick;\n",
       "    font-size: 1.2em;\n",
       "}\n",
       "</style>\n"
      ]
     },
     "metadata": {
      "jupyter-vega3": "#0727c446-662f-4d73-a270-ba5c41a3bb1b"
     },
     "output_type": "display_data"
    },
    {
     "data": {
      "application/javascript": [
       "var spec = {\"config\": {\"view\": {\"width\": 400, \"height\": 300}}, \"data\": {\"name\": \"data-49b8b5fd23874beb64e157415c5d79db\"}, \"mark\": \"line\", \"encoding\": {\"x\": {\"type\": \"quantitative\", \"field\": \"LoanAmount\"}, \"y\": {\"type\": \"quantitative\", \"field\": \"predicted_1\"}}, \"$schema\": \"https://vega.github.io/schema/vega-lite/v2.6.0.json\", \"datasets\": {\"data-49b8b5fd23874beb64e157415c5d79db\": [{\"LoanAmount\": 57.5, \"predicted_1\": 0.7993999999999958, \"sd_estimate\": 0.00714700216874181, \"sd_prediction\": 0.22600805295387183}, {\"LoanAmount\": 68.49137931034483, \"predicted_1\": 0.7193999999999992, \"sd_estimate\": 0.007472860228854784, \"sd_prediction\": 0.23631258959268245}, {\"LoanAmount\": 70.64655172413794, \"predicted_1\": 0.7528999999999981, \"sd_estimate\": 0.007901366337539345, \"sd_prediction\": 0.24986314254007116}, {\"LoanAmount\": 80.59482758620689, \"predicted_1\": 0.7509999999999962, \"sd_estimate\": 0.008264320903740388, \"sd_prediction\": 0.2613407737036078}, {\"LoanAmount\": 83.54310344827587, \"predicted_1\": 0.7357999999999966, \"sd_estimate\": 0.008187695646517435, \"sd_prediction\": 0.2589176703123998}, {\"LoanAmount\": 94.42241379310343, \"predicted_1\": 0.7462999999999967, \"sd_estimate\": 0.008257500227066283, \"sd_prediction\": 0.26112508496887027}, {\"LoanAmount\": 100.0, \"predicted_1\": 0.7710999999999955, \"sd_estimate\": 0.008291850818725568, \"sd_prediction\": 0.2622113460550475}, {\"LoanAmount\": 105.00862068965517, \"predicted_1\": 0.7722999999999953, \"sd_estimate\": 0.008312803979404286, \"sd_prediction\": 0.26287394317428975}, {\"LoanAmount\": 110.0, \"predicted_1\": 0.7595999999999958, \"sd_estimate\": 0.008411173520977883, \"sd_prediction\": 0.2659846612118817}, {\"LoanAmount\": 112.0, \"predicted_1\": 0.7449999999999969, \"sd_estimate\": 0.008422291849609607, \"sd_prediction\": 0.2663362536343868}, {\"LoanAmount\": 113.0, \"predicted_1\": 0.7478999999999966, \"sd_estimate\": 0.00838901603288491, \"sd_prediction\": 0.2652839799158631}, {\"LoanAmount\": 114.0, \"predicted_1\": 0.7478999999999966, \"sd_estimate\": 0.00838901603288491, \"sd_prediction\": 0.2652839799158631}, {\"LoanAmount\": 116.0, \"predicted_1\": 0.7841999999999965, \"sd_estimate\": 0.008756161259364778, \"sd_prediction\": 0.2768941313932106}, {\"LoanAmount\": 120.02586206896552, \"predicted_1\": 0.7842999999999972, \"sd_estimate\": 0.008609501146988718, \"sd_prediction\": 0.27225633142316463}, {\"LoanAmount\": 125.97413793103448, \"predicted_1\": 0.7885999999999973, \"sd_estimate\": 0.007969318665983952, \"sd_prediction\": 0.2520119838420392}, {\"LoanAmount\": 128.0, \"predicted_1\": 0.7832999999999973, \"sd_estimate\": 0.008028144866655026, \"sd_prediction\": 0.25387223164418643}, {\"LoanAmount\": 130.0, \"predicted_1\": 0.7836999999999973, \"sd_estimate\": 0.00802149050987411, \"sd_prediction\": 0.2536618024062756}, {\"LoanAmount\": 132.81896551724137, \"predicted_1\": 0.7866999999999976, \"sd_estimate\": 0.008071747642239599, \"sd_prediction\": 0.2552510724757107}, {\"LoanAmount\": 136.0, \"predicted_1\": 0.7841999999999971, \"sd_estimate\": 0.007984382255378302, \"sd_prediction\": 0.25248833636427626}, {\"LoanAmount\": 146.2931034482759, \"predicted_1\": 0.7474999999999965, \"sd_estimate\": 0.008065590492952154, \"sd_prediction\": 0.25505636631929063}, {\"LoanAmount\": 157.66379310344826, \"predicted_1\": 0.680299999999999, \"sd_estimate\": 0.0076277067326949565, \"sd_prediction\": 0.241209265991172}, {\"LoanAmount\": 173.83620689655174, \"predicted_1\": 0.6651999999999997, \"sd_estimate\": 0.007133649837215165, \"sd_prediction\": 0.2255858151568931}, {\"LoanAmount\": 179.1206896551724, \"predicted_1\": 0.7026999999999982, \"sd_estimate\": 0.007347292698674792, \"sd_prediction\": 0.23234179563737536}, {\"LoanAmount\": 187.50862068965517, \"predicted_1\": 0.7048999999999996, \"sd_estimate\": 0.007246101710575111, \"sd_prediction\": 0.22914185562659553}, {\"LoanAmount\": 203.198275862069, \"predicted_1\": 0.7159999999999995, \"sd_estimate\": 0.007467529712026575, \"sd_prediction\": 0.2361440238498525}, {\"LoanAmount\": 232.29310344827576, \"predicted_1\": 0.7259999999999992, \"sd_estimate\": 0.007412422006335063, \"sd_prediction\": 0.23440136518373847}, {\"LoanAmount\": 248.47413793103445, \"predicted_1\": 0.6994999999999996, \"sd_estimate\": 0.00706609864069275, \"sd_prediction\": 0.22344965876008835}, {\"LoanAmount\": 260.0, \"predicted_1\": 0.6680999999999999, \"sd_estimate\": 0.006949272623807491, \"sd_prediction\": 0.21975529572686126}, {\"LoanAmount\": 301.0, \"predicted_1\": 0.6121000000000018, \"sd_estimate\": 0.006439222779186916, \"sd_prediction\": 0.20362610343470128}]}};\n",
       "var opt = {};\n",
       "var selector = \"#0727c446-662f-4d73-a270-ba5c41a3bb1b\";\n",
       "var type = \"vega-lite\";\n",
       "\n",
       "var output_area = this;\n",
       "\n",
       "require(['nbextensions/jupyter-vega3/index'], function(vega) {\n",
       "  vega.render(selector, spec, type, opt, output_area);\n",
       "}, function (err) {\n",
       "  if (err.requireType !== 'scripterror') {\n",
       "    throw(err);\n",
       "  }\n",
       "});\n"
      ]
     },
     "metadata": {
      "jupyter-vega3": "#0727c446-662f-4d73-a270-ba5c41a3bb1b"
     },
     "output_type": "display_data"
    },
    {
     "data": {
      "text/plain": []
     },
     "execution_count": 10,
     "metadata": {},
     "output_type": "execute_result"
    },
    {
     "data": {
      "image/png": "[encoded data removed]"
     },
     "metadata": {
      "jupyter-vega3": "#0727c446-662f-4d73-a270-ba5c41a3bb1b"
     },
     "output_type": "display_data"
    }
   ],
   "source": [
    "# partial_dependence = interpreter.partial_dependence.partial_dependence(['LoanAmount'], skater_model, grid_resolution=30)\n",
    "from src import partial_dependence\n",
    "dependency = partial_dependence.get_dependency(model_prediction, X[1], ['LoanAmount'])\n",
    "alt.Chart(dependency).mark_line().encode(\n",
    "    x='LoanAmount',\n",
    "    y='predicted_1'\n",
    ")"
   ]
  },
  {
   "cell_type": "code",
   "execution_count": 11,
   "metadata": {
    "ExecuteTime": {
     "end_time": "2019-05-07T07:11:03.823579Z",
     "start_time": "2019-05-07T07:11:03.016229Z"
    },
    "colab": {
     "base_uri": "https://localhost:8080/",
     "height": 423
    },
    "colab_type": "code",
    "id": "snfNhGkLT5pl",
    "outputId": "7515f362-501f-44a9-879a-d5d207444c89"
   },
   "outputs": [
    {
     "name": "stderr",
     "output_type": "stream",
     "text": [
      "2019-05-07 10:11:03,123 - skater.core.explanations - WARNING - Progress bars slow down runs by 10-20%. For slightly \n",
      "faster runs, do progressbar=False\n"
     ]
    },
    {
     "name": "stdout",
     "output_type": "stream",
     "text": [
      "[30/30] grid cells ████████████████████ Time elapsed: 0 seconds"
     ]
    },
    {
     "data": {
      "text/html": [
       "<div class=\"vega-embed\" id=\"474dc6a3-f7d9-4d3a-a0b5-c5f909dd0abf\"></div>\n",
       "\n",
       "<style>\n",
       ".vega-embed .vega-actions > a {\n",
       "    transition: opacity 200ms ease-in;\n",
       "    opacity: 0.3;\n",
       "    margin-right: 0.6em;\n",
       "    color: #444;\n",
       "    text-decoration: none;\n",
       "}\n",
       "\n",
       ".vega-embed .vega-actions > a:hover {\n",
       "    color: #000;\n",
       "    text-decoration: underline;\n",
       "}\n",
       "\n",
       ".vega-embed:hover .vega-actions > a {\n",
       "    opacity: 1;\n",
       "    transition: 0s;\n",
       "}\n",
       "\n",
       ".vega-embed .error p {\n",
       "    color: firebrick;\n",
       "    font-size: 1.2em;\n",
       "}\n",
       "</style>\n"
      ]
     },
     "metadata": {
      "jupyter-vega3": "#474dc6a3-f7d9-4d3a-a0b5-c5f909dd0abf"
     },
     "output_type": "display_data"
    },
    {
     "data": {
      "application/javascript": [
       "var spec = {\"config\": {\"view\": {\"width\": 400, \"height\": 300}}, \"data\": {\"name\": \"data-6f9ea3017c0afbc4ee427501822cae75\"}, \"mark\": \"line\", \"encoding\": {\"x\": {\"type\": \"quantitative\", \"field\": \"ApplicantIncome\"}, \"y\": {\"type\": \"quantitative\", \"field\": \"predicted_1\"}}, \"$schema\": \"https://vega.github.io/schema/vega-lite/v2.6.0.json\", \"datasets\": {\"data-6f9ea3017c0afbc4ee427501822cae75\": [{\"ApplicantIncome\": 2008.75, \"predicted_1\": 0.7533999999999984, \"sd_estimate\": 0.0080167599440173, \"sd_prediction\": 0.25351220877898617}, {\"ApplicantIncome\": 2145.6810344827586, \"predicted_1\": 0.7380999999999994, \"sd_estimate\": 0.008177920884919301, \"sd_prediction\": 0.25860856521004727}, {\"ApplicantIncome\": 2241.689655172414, \"predicted_1\": 0.7192999999999994, \"sd_estimate\": 0.007911858820782833, \"sd_prediction\": 0.2501949439936769}, {\"ApplicantIncome\": 2500.0, \"predicted_1\": 0.7677999999999986, \"sd_estimate\": 0.0076317206447825345, \"sd_prediction\": 0.2413361970364163}, {\"ApplicantIncome\": 2635.844827586207, \"predicted_1\": 0.7734999999999991, \"sd_estimate\": 0.007901123337855191, \"sd_prediction\": 0.24985545821534488}, {\"ApplicantIncome\": 2882.387931034483, \"predicted_1\": 0.7903, \"sd_estimate\": 0.007892775810828511, \"sd_prediction\": 0.24959148623300367}, {\"ApplicantIncome\": 2975.9051724137935, \"predicted_1\": 0.7894999999999996, \"sd_estimate\": 0.007948569053609609, \"sd_prediction\": 0.25135582348535385}, {\"ApplicantIncome\": 3089.5948275862065, \"predicted_1\": 0.7667999999999984, \"sd_estimate\": 0.008564914477097825, \"sd_prediction\": 0.2708463771217919}, {\"ApplicantIncome\": 3169.0172413793107, \"predicted_1\": 0.7532999999999981, \"sd_estimate\": 0.00861679232661437, \"sd_prediction\": 0.2724868987676294}, {\"ApplicantIncome\": 3214.8275862068967, \"predicted_1\": 0.7512999999999979, \"sd_estimate\": 0.008597575821125383, \"sd_prediction\": 0.27187921950748606}, {\"ApplicantIncome\": 3294.637931034483, \"predicted_1\": 0.7184999999999971, \"sd_estimate\": 0.008473945362108477, \"sd_prediction\": 0.26796968112083086}, {\"ApplicantIncome\": 3501.8103448275865, \"predicted_1\": 0.670099999999998, \"sd_estimate\": 0.008050837844597297, \"sd_prediction\": 0.25458984661608175}, {\"ApplicantIncome\": 3602.198275862069, \"predicted_1\": 0.6682999999999988, \"sd_estimate\": 0.00787306230129037, \"sd_prediction\": 0.24896809032484385}, {\"ApplicantIncome\": 3719.560344827586, \"predicted_1\": 0.7338999999999964, \"sd_estimate\": 0.007518030992221329, \"sd_prediction\": 0.23774101455155022}, {\"ApplicantIncome\": 3859.206896551724, \"predicted_1\": 0.7199999999999994, \"sd_estimate\": 0.007336211556382505, \"sd_prediction\": 0.2319913791501749}, {\"ApplicantIncome\": 3991.2931034482754, \"predicted_1\": 0.7432999999999981, \"sd_estimate\": 0.007378015315787873, \"sd_prediction\": 0.2333133300949614}, {\"ApplicantIncome\": 4180.784482758621, \"predicted_1\": 0.7709999999999956, \"sd_estimate\": 0.007511258216836937, \"sd_prediction\": 0.23752684058859622}, {\"ApplicantIncome\": 4274.4051724137935, \"predicted_1\": 0.7829999999999955, \"sd_estimate\": 0.006716472288337101, \"sd_prediction\": 0.21239350272548407}, {\"ApplicantIncome\": 4527.620689655171, \"predicted_1\": 0.7323999999999996, \"sd_estimate\": 0.006705985386205398, \"sd_prediction\": 0.2120618777621295}, {\"ApplicantIncome\": 4635.939655172413, \"predicted_1\": 0.7107, \"sd_estimate\": 0.006985378300421523, \"sd_prediction\": 0.22089705747247945}, {\"ApplicantIncome\": 5302.715517241383, \"predicted_1\": 0.7584999999999987, \"sd_estimate\": 0.006716230341493655, \"sd_prediction\": 0.2123858516945043}, {\"ApplicantIncome\": 5604.28448275862, \"predicted_1\": 0.7373999999999978, \"sd_estimate\": 0.0069254054032959, \"sd_prediction\": 0.2190005479445201}, {\"ApplicantIncome\": 5770.8965517241395, \"predicted_1\": 0.741599999999997, \"sd_estimate\": 0.006810979371573509, \"sd_prediction\": 0.21538207910594573}, {\"ApplicantIncome\": 6182.293103448275, \"predicted_1\": 0.7344999999999967, \"sd_estimate\": 0.0068934570427325965, \"sd_prediction\": 0.21799025207563671}, {\"ApplicantIncome\": 6603.1551724137935, \"predicted_1\": 0.7309999999999972, \"sd_estimate\": 0.006514522238813822, \"sd_prediction\": 0.20600728142471045}, {\"ApplicantIncome\": 8191.250000000001, \"predicted_1\": 0.7136999999999966, \"sd_estimate\": 0.006581968550517367, \"sd_prediction\": 0.20814012107231916}, {\"ApplicantIncome\": 8670.508620689649, \"predicted_1\": 0.7136999999999966, \"sd_estimate\": 0.006581968550517367, \"sd_prediction\": 0.20814012107231916}, {\"ApplicantIncome\": 9715.517241379308, \"predicted_1\": 0.7035999999999986, \"sd_estimate\": 0.0068517910067368735, \"sd_prediction\": 0.21667265632746624}, {\"ApplicantIncome\": 10586.62068965517, \"predicted_1\": 0.7514999999999966, \"sd_estimate\": 0.006426332546639651, \"sd_prediction\": 0.2032184784905154}, {\"ApplicantIncome\": 12645.75, \"predicted_1\": 0.7467999999999969, \"sd_estimate\": 0.006469139046271944, \"sd_prediction\": 0.20457213886548745}]}};\n",
       "var opt = {};\n",
       "var selector = \"#474dc6a3-f7d9-4d3a-a0b5-c5f909dd0abf\";\n",
       "var type = \"vega-lite\";\n",
       "\n",
       "var output_area = this;\n",
       "\n",
       "require(['nbextensions/jupyter-vega3/index'], function(vega) {\n",
       "  vega.render(selector, spec, type, opt, output_area);\n",
       "}, function (err) {\n",
       "  if (err.requireType !== 'scripterror') {\n",
       "    throw(err);\n",
       "  }\n",
       "});\n"
      ]
     },
     "metadata": {
      "jupyter-vega3": "#474dc6a3-f7d9-4d3a-a0b5-c5f909dd0abf"
     },
     "output_type": "display_data"
    },
    {
     "data": {
      "text/plain": []
     },
     "execution_count": 11,
     "metadata": {},
     "output_type": "execute_result"
    },
    {
     "data": {
      "image/png": "[encoded data removed]"
     },
     "metadata": {
      "jupyter-vega3": "#474dc6a3-f7d9-4d3a-a0b5-c5f909dd0abf"
     },
     "output_type": "display_data"
    }
   ],
   "source": [
    "dependency = partial_dependence.get_dependency(model_prediction, X[1], ['ApplicantIncome'])\n",
    "alt.Chart(dependency).mark_line().encode(\n",
    "    x='ApplicantIncome',\n",
    "    y='predicted_1'\n",
    ")"
   ]
  },
  {
   "cell_type": "code",
   "execution_count": 12,
   "metadata": {
    "ExecuteTime": {
     "end_time": "2019-05-07T07:11:06.768803Z",
     "start_time": "2019-05-07T07:11:03.982230Z"
    },
    "colab": {
     "base_uri": "https://localhost:8080/",
     "height": 348
    },
    "colab_type": "code",
    "id": "91oJjJnXJlNU",
    "outputId": "7d3cceda-a7d2-4542-9e09-f5a58fdb658b"
   },
   "outputs": [
    {
     "name": "stderr",
     "output_type": "stream",
     "text": [
      "2019-05-07 10:11:04,093 - skater.core.explanations - WARNING - Progress bars slow down runs by 10-20%. For slightly \n",
      "faster runs, do progressbar=False\n"
     ]
    },
    {
     "name": "stdout",
     "output_type": "stream",
     "text": [
      "[100/100] grid cells ████████████████████ Time elapsed: 2 seconds"
     ]
    },
    {
     "data": {
      "text/html": [
       "<div class=\"vega-embed\" id=\"e05ab27f-baa8-40e8-8d4a-b0c9fafe6ab7\"></div>\n",
       "\n",
       "<style>\n",
       ".vega-embed .vega-actions > a {\n",
       "    transition: opacity 200ms ease-in;\n",
       "    opacity: 0.3;\n",
       "    margin-right: 0.6em;\n",
       "    color: #444;\n",
       "    text-decoration: none;\n",
       "}\n",
       "\n",
       ".vega-embed .vega-actions > a:hover {\n",
       "    color: #000;\n",
       "    text-decoration: underline;\n",
       "}\n",
       "\n",
       ".vega-embed:hover .vega-actions > a {\n",
       "    opacity: 1;\n",
       "    transition: 0s;\n",
       "}\n",
       "\n",
       ".vega-embed .error p {\n",
       "    color: firebrick;\n",
       "    font-size: 1.2em;\n",
       "}\n",
       "</style>\n"
      ]
     },
     "metadata": {
      "jupyter-vega3": "#e05ab27f-baa8-40e8-8d4a-b0c9fafe6ab7"
     },
     "output_type": "display_data"
    },
    {
     "data": {
      "application/javascript": [
       "var spec = {\"config\": {\"view\": {\"width\": 400, \"height\": 300}}, \"data\": {\"name\": \"data-c565d266da50df95cf2d85756f071ab8\"}, \"mark\": \"rect\", \"encoding\": {\"color\": {\"type\": \"quantitative\", \"field\": \"predicted_1\"}, \"x\": {\"type\": \"ordinal\", \"field\": \"LoanAmount\"}, \"y\": {\"type\": \"ordinal\", \"field\": \"ApplicantIncome\"}}, \"$schema\": \"https://vega.github.io/schema/vega-lite/v2.6.0.json\", \"datasets\": {\"data-c565d266da50df95cf2d85756f071ab8\": [{\"ApplicantIncome\": 2008.75, \"LoanAmount\": 57.5, \"predicted_1\": 0.8018999999999951, \"sd_estimate\": 0.007194886378533003, \"sd_prediction\": 0.22752228462284688}, {\"ApplicantIncome\": 2525.0, \"LoanAmount\": 57.5, \"predicted_1\": 0.8390999999999957, \"sd_estimate\": 0.006942707685046225, \"sd_prediction\": 0.21954769413501002}, {\"ApplicantIncome\": 3039.0, \"LoanAmount\": 57.5, \"predicted_1\": 0.8483999999999956, \"sd_estimate\": 0.0073278537103302135, \"sd_prediction\": 0.23172708085159205}, {\"ApplicantIncome\": 3275.5, \"LoanAmount\": 57.5, \"predicted_1\": 0.8200999999999945, \"sd_estimate\": 0.007742479576983064, \"sd_prediction\": 0.24483870200603466}, {\"ApplicantIncome\": 3692.75, \"LoanAmount\": 57.5, \"predicted_1\": 0.7849999999999966, \"sd_estimate\": 0.007225994741210363, \"sd_prediction\": 0.22850601742623722}, {\"ApplicantIncome\": 4191.0, \"LoanAmount\": 57.5, \"predicted_1\": 0.7882999999999977, \"sd_estimate\": 0.00724935238486862, \"sd_prediction\": 0.229244650973584}, {\"ApplicantIncome\": 4725.5, \"LoanAmount\": 57.5, \"predicted_1\": 0.737799999999998, \"sd_estimate\": 0.006772825112166983, \"sd_prediction\": 0.21417553548433046}, {\"ApplicantIncome\": 5975.25, \"LoanAmount\": 57.5, \"predicted_1\": 0.786299999999994, \"sd_estimate\": 0.006431353667774749, \"sd_prediction\": 0.20337726028246056}, {\"ApplicantIncome\": 8333.0, \"LoanAmount\": 57.5, \"predicted_1\": 0.7472999999999963, \"sd_estimate\": 0.006042574782325845, \"sd_prediction\": 0.19108299244045826}, {\"ApplicantIncome\": 12645.75, \"LoanAmount\": 57.5, \"predicted_1\": 0.7903999999999944, \"sd_estimate\": 0.006125997061703541, \"sd_prediction\": 0.1937210365448224}, {\"ApplicantIncome\": 2008.75, \"LoanAmount\": 81.0, \"predicted_1\": 0.7495999999999976, \"sd_estimate\": 0.008670630888234157, \"sd_prediction\": 0.2741894235742878}, {\"ApplicantIncome\": 2525.0, \"LoanAmount\": 81.0, \"predicted_1\": 0.7497999999999985, \"sd_estimate\": 0.008438006873663957, \"sd_prediction\": 0.2668332063293476}, {\"ApplicantIncome\": 3039.0, \"LoanAmount\": 81.0, \"predicted_1\": 0.7787999999999964, \"sd_estimate\": 0.009084633179165774, \"sd_prediction\": 0.2872813255330037}, {\"ApplicantIncome\": 3275.5, \"LoanAmount\": 81.0, \"predicted_1\": 0.7086999999999976, \"sd_estimate\": 0.00908373876771012, \"sd_prediction\": 0.28725304175935157}, {\"ApplicantIncome\": 3692.75, \"LoanAmount\": 81.0, \"predicted_1\": 0.7382999999999987, \"sd_estimate\": 0.00803262783900764, \"sd_prediction\": 0.2540139956774046}, {\"ApplicantIncome\": 4191.0, \"LoanAmount\": 81.0, \"predicted_1\": 0.7540999999999982, \"sd_estimate\": 0.007993947085138866, \"sd_prediction\": 0.25279080283902766}, {\"ApplicantIncome\": 4725.5, \"LoanAmount\": 81.0, \"predicted_1\": 0.6696999999999999, \"sd_estimate\": 0.007111392971844552, \"sd_prediction\": 0.22488199127542446}, {\"ApplicantIncome\": 5975.25, \"LoanAmount\": 81.0, \"predicted_1\": 0.7398999999999967, \"sd_estimate\": 0.006994139689768857, \"sd_prediction\": 0.22117411693053057}, {\"ApplicantIncome\": 8333.0, \"LoanAmount\": 81.0, \"predicted_1\": 0.7141999999999956, \"sd_estimate\": 0.006886099040821306, \"sd_prediction\": 0.2177575716249612}, {\"ApplicantIncome\": 12645.75, \"LoanAmount\": 81.0, \"predicted_1\": 0.757299999999995, \"sd_estimate\": 0.006905556458389114, \"sd_prediction\": 0.21837286919395368}, {\"ApplicantIncome\": 2008.75, \"LoanAmount\": 100.0, \"predicted_1\": 0.774099999999998, \"sd_estimate\": 0.00864633968798358, \"sd_prediction\": 0.27342126837537706}, {\"ApplicantIncome\": 2525.0, \"LoanAmount\": 100.0, \"predicted_1\": 0.7742999999999988, \"sd_estimate\": 0.008393420637618505, \"sd_prediction\": 0.26542326574737235}, {\"ApplicantIncome\": 3039.0, \"LoanAmount\": 100.0, \"predicted_1\": 0.8237999999999976, \"sd_estimate\": 0.009126530556569635, \"sd_prediction\": 0.2886062369388424}, {\"ApplicantIncome\": 3275.5, \"LoanAmount\": 100.0, \"predicted_1\": 0.7448999999999971, \"sd_estimate\": 0.009345265646304545, \"sd_prediction\": 0.2955232478164787}, {\"ApplicantIncome\": 3692.75, \"LoanAmount\": 100.0, \"predicted_1\": 0.7603999999999951, \"sd_estimate\": 0.00823965047802393, \"sd_prediction\": 0.2605606263425078}, {\"ApplicantIncome\": 4191.0, \"LoanAmount\": 100.0, \"predicted_1\": 0.7808999999999947, \"sd_estimate\": 0.00829127191690151, \"sd_prediction\": 0.262193039571991}, {\"ApplicantIncome\": 4725.5, \"LoanAmount\": 100.0, \"predicted_1\": 0.6814000000000007, \"sd_estimate\": 0.007129799436169268, \"sd_prediction\": 0.22546405478479184}, {\"ApplicantIncome\": 5975.25, \"LoanAmount\": 100.0, \"predicted_1\": 0.7373999999999961, \"sd_estimate\": 0.00744588745550186, \"sd_prediction\": 0.2354596356066151}, {\"ApplicantIncome\": 8333.0, \"LoanAmount\": 100.0, \"predicted_1\": 0.7116999999999952, \"sd_estimate\": 0.007386007717298973, \"sd_prediction\": 0.23356607202245788}, {\"ApplicantIncome\": 12645.75, \"LoanAmount\": 100.0, \"predicted_1\": 0.7499999999999941, \"sd_estimate\": 0.007439085965358924, \"sd_prediction\": 0.23524455360326646}, {\"ApplicantIncome\": 2008.75, \"LoanAmount\": 110.5, \"predicted_1\": 0.7575999999999975, \"sd_estimate\": 0.008700703419839115, \"sd_prediction\": 0.27514040052307853}, {\"ApplicantIncome\": 2525.0, \"LoanAmount\": 110.5, \"predicted_1\": 0.7577999999999979, \"sd_estimate\": 0.00840946847309628, \"sd_prediction\": 0.2659307428636266}, {\"ApplicantIncome\": 3039.0, \"LoanAmount\": 110.5, \"predicted_1\": 0.8089999999999964, \"sd_estimate\": 0.009192333762434847, \"sd_prediction\": 0.2906871170175926}, {\"ApplicantIncome\": 3275.5, \"LoanAmount\": 110.5, \"predicted_1\": 0.737299999999997, \"sd_estimate\": 0.00948781903284417, \"sd_prediction\": 0.30003118171283477}, {\"ApplicantIncome\": 3692.75, \"LoanAmount\": 110.5, \"predicted_1\": 0.7649999999999951, \"sd_estimate\": 0.008454288852410976, \"sd_prediction\": 0.2673480877058979}, {\"ApplicantIncome\": 4191.0, \"LoanAmount\": 110.5, \"predicted_1\": 0.7854999999999954, \"sd_estimate\": 0.008504101951411443, \"sd_prediction\": 0.26892331620742727}, {\"ApplicantIncome\": 4725.5, \"LoanAmount\": 110.5, \"predicted_1\": 0.692299999999999, \"sd_estimate\": 0.007210458376552777, \"sd_prediction\": 0.22801471443746807}, {\"ApplicantIncome\": 5975.25, \"LoanAmount\": 110.5, \"predicted_1\": 0.7405999999999959, \"sd_estimate\": 0.007612597454220195, \"sd_prediction\": 0.240731468653352}, {\"ApplicantIncome\": 8333.0, \"LoanAmount\": 110.5, \"predicted_1\": 0.6913999999999978, \"sd_estimate\": 0.007440835974539415, \"sd_prediction\": 0.23529989375263205}, {\"ApplicantIncome\": 12645.75, \"LoanAmount\": 110.5, \"predicted_1\": 0.7296999999999954, \"sd_estimate\": 0.007396479568010717, \"sd_prediction\": 0.23389722101812155}, {\"ApplicantIncome\": 2008.75, \"LoanAmount\": 115.75, \"predicted_1\": 0.7577999999999975, \"sd_estimate\": 0.008926318390019502, \"sd_prediction\": 0.28227497232308846}, {\"ApplicantIncome\": 2525.0, \"LoanAmount\": 115.75, \"predicted_1\": 0.7876999999999976, \"sd_estimate\": 0.008619669947277578, \"sd_prediction\": 0.27257789712300634}, {\"ApplicantIncome\": 3039.0, \"LoanAmount\": 115.75, \"predicted_1\": 0.8071999999999964, \"sd_estimate\": 0.009160139736925406, \"sd_prediction\": 0.2896690525409987}, {\"ApplicantIncome\": 3275.5, \"LoanAmount\": 115.75, \"predicted_1\": 0.751699999999996, \"sd_estimate\": 0.009392396392827535, \"sd_prediction\": 0.2970136528848458}, {\"ApplicantIncome\": 3692.75, \"LoanAmount\": 115.75, \"predicted_1\": 0.7861999999999943, \"sd_estimate\": 0.008646939342912005, \"sd_prediction\": 0.2734402311292168}, {\"ApplicantIncome\": 4191.0, \"LoanAmount\": 115.75, \"predicted_1\": 0.8116999999999952, \"sd_estimate\": 0.008858504952868732, \"sd_prediction\": 0.2801305231494773}, {\"ApplicantIncome\": 4725.5, \"LoanAmount\": 115.75, \"predicted_1\": 0.755499999999999, \"sd_estimate\": 0.007711663244722257, \"sd_prediction\": 0.2438642040152679}, {\"ApplicantIncome\": 5975.25, \"LoanAmount\": 115.75, \"predicted_1\": 0.7709999999999968, \"sd_estimate\": 0.00813627678978538, \"sd_prediction\": 0.2572916632928481}, {\"ApplicantIncome\": 8333.0, \"LoanAmount\": 115.75, \"predicted_1\": 0.7081999999999968, \"sd_estimate\": 0.007882433634354353, \"sd_prediction\": 0.24926443789678618}, {\"ApplicantIncome\": 12645.75, \"LoanAmount\": 115.75, \"predicted_1\": 0.7608999999999941, \"sd_estimate\": 0.007871543050761987, \"sd_prediction\": 0.24892004740478282}, {\"ApplicantIncome\": 2008.75, \"LoanAmount\": 128.25, \"predicted_1\": 0.7598999999999977, \"sd_estimate\": 0.00792603242486428, \"sd_prediction\": 0.25064315270918525}, {\"ApplicantIncome\": 2525.0, \"LoanAmount\": 128.25, \"predicted_1\": 0.7862999999999971, \"sd_estimate\": 0.007904575257406303, \"sd_prediction\": 0.24996461749615667}, {\"ApplicantIncome\": 3039.0, \"LoanAmount\": 128.25, \"predicted_1\": 0.8022999999999971, \"sd_estimate\": 0.008380018496399638, \"sd_prediction\": 0.2649994528296239}, {\"ApplicantIncome\": 3275.5, \"LoanAmount\": 128.25, \"predicted_1\": 0.7499999999999984, \"sd_estimate\": 0.008700574693662463, \"sd_prediction\": 0.2751363298439515}, {\"ApplicantIncome\": 3692.75, \"LoanAmount\": 128.25, \"predicted_1\": 0.7703999999999969, \"sd_estimate\": 0.00794882632845879, \"sd_prediction\": 0.25136395923043475}, {\"ApplicantIncome\": 4191.0, \"LoanAmount\": 128.25, \"predicted_1\": 0.7958999999999957, \"sd_estimate\": 0.008002074106130245, \"sd_prediction\": 0.25304780180827524}, {\"ApplicantIncome\": 4725.5, \"LoanAmount\": 128.25, \"predicted_1\": 0.7618999999999974, \"sd_estimate\": 0.007194330406646594, \"sd_prediction\": 0.22750470324808614}, {\"ApplicantIncome\": 5975.25, \"LoanAmount\": 128.25, \"predicted_1\": 0.7741999999999971, \"sd_estimate\": 0.007510949340795774, \"sd_prediction\": 0.2375170730705489}, {\"ApplicantIncome\": 8333.0, \"LoanAmount\": 128.25, \"predicted_1\": 0.7132999999999978, \"sd_estimate\": 0.0072369268339537605, \"sd_prediction\": 0.22885172055285055}, {\"ApplicantIncome\": 12645.75, \"LoanAmount\": 128.25, \"predicted_1\": 0.764299999999994, \"sd_estimate\": 0.007167671169912828, \"sd_prediction\": 0.2266616641604829}, {\"ApplicantIncome\": 2008.75, \"LoanAmount\": 136.75, \"predicted_1\": 0.7434999999999972, \"sd_estimate\": 0.0077121819221281284, \"sd_prediction\": 0.2438806060350021}, {\"ApplicantIncome\": 2525.0, \"LoanAmount\": 136.75, \"predicted_1\": 0.7698999999999966, \"sd_estimate\": 0.007746224241525683, \"sd_prediction\": 0.24495711869631415}, {\"ApplicantIncome\": 3039.0, \"LoanAmount\": 136.75, \"predicted_1\": 0.7858999999999966, \"sd_estimate\": 0.008234755005463104, \"sd_prediction\": 0.2604058179073571}, {\"ApplicantIncome\": 3275.5, \"LoanAmount\": 136.75, \"predicted_1\": 0.7372999999999984, \"sd_estimate\": 0.008639369768681035, \"sd_prediction\": 0.2732008601743409}, {\"ApplicantIncome\": 3692.75, \"LoanAmount\": 136.75, \"predicted_1\": 0.761599999999997, \"sd_estimate\": 0.00784381539813372, \"sd_prediction\": 0.24804322204003004}, {\"ApplicantIncome\": 4191.0, \"LoanAmount\": 136.75, \"predicted_1\": 0.7870999999999955, \"sd_estimate\": 0.007897062111950218, \"sd_prediction\": 0.24972703097582294}, {\"ApplicantIncome\": 4725.5, \"LoanAmount\": 136.75, \"predicted_1\": 0.7557999999999979, \"sd_estimate\": 0.007087055806186388, \"sd_prediction\": 0.22411238252269816}, {\"ApplicantIncome\": 5975.25, \"LoanAmount\": 136.75, \"predicted_1\": 0.7680999999999968, \"sd_estimate\": 0.007606075860783934, \"sd_prediction\": 0.2405252377610301}, {\"ApplicantIncome\": 8333.0, \"LoanAmount\": 136.75, \"predicted_1\": 0.7071999999999977, \"sd_estimate\": 0.007349024425051257, \"sd_prediction\": 0.23239655763371359}, {\"ApplicantIncome\": 12645.75, \"LoanAmount\": 136.75, \"predicted_1\": 0.758199999999995, \"sd_estimate\": 0.00719532904042616, \"sd_prediction\": 0.22753628282100427}, {\"ApplicantIncome\": 2008.75, \"LoanAmount\": 176.5, \"predicted_1\": 0.6363000000000004, \"sd_estimate\": 0.007013722977135621, \"sd_prediction\": 0.2217933948520563}, {\"ApplicantIncome\": 2525.0, \"LoanAmount\": 176.5, \"predicted_1\": 0.6520000000000001, \"sd_estimate\": 0.007031073886683315, \"sd_prediction\": 0.22234207878851905}, {\"ApplicantIncome\": 3039.0, \"LoanAmount\": 176.5, \"predicted_1\": 0.6494000000000004, \"sd_estimate\": 0.0072800851643370235, \"sd_prediction\": 0.23021650679306213}, {\"ApplicantIncome\": 3275.5, \"LoanAmount\": 176.5, \"predicted_1\": 0.5962000000000004, \"sd_estimate\": 0.006895328853651568, \"sd_prediction\": 0.21804944393416792}, {\"ApplicantIncome\": 3692.75, \"LoanAmount\": 176.5, \"predicted_1\": 0.6865999999999998, \"sd_estimate\": 0.006936889792983589, \"sd_prediction\": 0.21936371623402057}, {\"ApplicantIncome\": 4191.0, \"LoanAmount\": 176.5, \"predicted_1\": 0.7161000000000002, \"sd_estimate\": 0.007043492741531028, \"sd_prediction\": 0.22273479746101701}, {\"ApplicantIncome\": 4725.5, \"LoanAmount\": 176.5, \"predicted_1\": 0.6645000000000008, \"sd_estimate\": 0.006620404066218321, \"sd_prediction\": 0.20935555879890094}, {\"ApplicantIncome\": 5975.25, \"LoanAmount\": 176.5, \"predicted_1\": 0.6540999999999968, \"sd_estimate\": 0.007683956663074043, \"sd_prediction\": 0.24298804497341012}, {\"ApplicantIncome\": 8333.0, \"LoanAmount\": 176.5, \"predicted_1\": 0.5997000000000003, \"sd_estimate\": 0.0069361307657800275, \"sd_prediction\": 0.21933971368632774}, {\"ApplicantIncome\": 12645.75, \"LoanAmount\": 176.5, \"predicted_1\": 0.6191999999999996, \"sd_estimate\": 0.0074425372017880576, \"sd_prediction\": 0.23535369128186456}, {\"ApplicantIncome\": 2008.75, \"LoanAmount\": 223.25, \"predicted_1\": 0.6987999999999995, \"sd_estimate\": 0.007656275857099203, \"sd_prediction\": 0.2421127010299132}, {\"ApplicantIncome\": 2525.0, \"LoanAmount\": 223.25, \"predicted_1\": 0.7144999999999992, \"sd_estimate\": 0.007548493227128215, \"sd_prediction\": 0.23870431500079872}, {\"ApplicantIncome\": 3039.0, \"LoanAmount\": 223.25, \"predicted_1\": 0.7200999999999976, \"sd_estimate\": 0.007538301532838803, \"sd_prediction\": 0.23838202532909197}, {\"ApplicantIncome\": 3275.5, \"LoanAmount\": 223.25, \"predicted_1\": 0.6406000000000013, \"sd_estimate\": 0.006924712268390645, \"sd_prediction\": 0.2189786290942564}, {\"ApplicantIncome\": 3692.75, \"LoanAmount\": 223.25, \"predicted_1\": 0.7249999999999951, \"sd_estimate\": 0.007107390519733687, \"sd_prediction\": 0.22475542262646367}, {\"ApplicantIncome\": 4191.0, \"LoanAmount\": 223.25, \"predicted_1\": 0.7421999999999939, \"sd_estimate\": 0.00689776485537165, \"sd_prediction\": 0.2181264770723634}, {\"ApplicantIncome\": 4725.5, \"LoanAmount\": 223.25, \"predicted_1\": 0.694599999999998, \"sd_estimate\": 0.006137657533619805, \"sd_prediction\": 0.19408977304330063}, {\"ApplicantIncome\": 5975.25, \"LoanAmount\": 223.25, \"predicted_1\": 0.680999999999998, \"sd_estimate\": 0.0070752385118807385, \"sd_prediction\": 0.22373868686483428}, {\"ApplicantIncome\": 8333.0, \"LoanAmount\": 223.25, \"predicted_1\": 0.7155999999999981, \"sd_estimate\": 0.007943339348158322, \"sd_prediction\": 0.25119044567817517}, {\"ApplicantIncome\": 12645.75, \"LoanAmount\": 223.25, \"predicted_1\": 0.7169999999999991, \"sd_estimate\": 0.007887395007225169, \"sd_prediction\": 0.24942133028271762}, {\"ApplicantIncome\": 2008.75, \"LoanAmount\": 301.0, \"predicted_1\": 0.6121000000000002, \"sd_estimate\": 0.006738218607317484, \"sd_prediction\": 0.2130811817125097}, {\"ApplicantIncome\": 2525.0, \"LoanAmount\": 301.0, \"predicted_1\": 0.6277999999999996, \"sd_estimate\": 0.006744416950337492, \"sd_prediction\": 0.21327719052913202}, {\"ApplicantIncome\": 3039.0, \"LoanAmount\": 301.0, \"predicted_1\": 0.6048000000000007, \"sd_estimate\": 0.006494379108121123, \"sd_prediction\": 0.2053702997027567}, {\"ApplicantIncome\": 3275.5, \"LoanAmount\": 301.0, \"predicted_1\": 0.518100000000001, \"sd_estimate\": 0.005807098242668164, \"sd_prediction\": 0.1836365704319259}, {\"ApplicantIncome\": 3692.75, \"LoanAmount\": 301.0, \"predicted_1\": 0.6025000000000007, \"sd_estimate\": 0.006304264429733262, \"sd_prediction\": 0.19935834569939642}, {\"ApplicantIncome\": 4191.0, \"LoanAmount\": 301.0, \"predicted_1\": 0.615000000000001, \"sd_estimate\": 0.0061086004943849085, \"sd_prediction\": 0.19317090878286913}, {\"ApplicantIncome\": 4725.5, \"LoanAmount\": 301.0, \"predicted_1\": 0.6271999999999995, \"sd_estimate\": 0.005943076644297982, \"sd_prediction\": 0.18793658504931968}, {\"ApplicantIncome\": 5975.25, \"LoanAmount\": 301.0, \"predicted_1\": 0.6091999999999996, \"sd_estimate\": 0.007164869852272247, \"sd_prediction\": 0.2265730787185444}, {\"ApplicantIncome\": 8333.0, \"LoanAmount\": 301.0, \"predicted_1\": 0.6191000000000001, \"sd_estimate\": 0.0075686980386325585, \"sd_prediction\": 0.23934324724127967}, {\"ApplicantIncome\": 12645.75, \"LoanAmount\": 301.0, \"predicted_1\": 0.6097999999999986, \"sd_estimate\": 0.007479569506328536, \"sd_prediction\": 0.23652475557539362}]}};\n",
       "var opt = {};\n",
       "var selector = \"#e05ab27f-baa8-40e8-8d4a-b0c9fafe6ab7\";\n",
       "var type = \"vega-lite\";\n",
       "\n",
       "var output_area = this;\n",
       "\n",
       "require(['nbextensions/jupyter-vega3/index'], function(vega) {\n",
       "  vega.render(selector, spec, type, opt, output_area);\n",
       "}, function (err) {\n",
       "  if (err.requireType !== 'scripterror') {\n",
       "    throw(err);\n",
       "  }\n",
       "});\n"
      ]
     },
     "metadata": {
      "jupyter-vega3": "#e05ab27f-baa8-40e8-8d4a-b0c9fafe6ab7"
     },
     "output_type": "display_data"
    },
    {
     "data": {
      "text/plain": []
     },
     "execution_count": 12,
     "metadata": {},
     "output_type": "execute_result"
    },
    {
     "data": {
      "image/png": "[encoded data removed]"
     },
     "metadata": {
      "jupyter-vega3": "#e05ab27f-baa8-40e8-8d4a-b0c9fafe6ab7"
     },
     "output_type": "display_data"
    }
   ],
   "source": [
    "dependency = partial_dependence.get_dependency(model_prediction, \n",
    "                                               X[1], \n",
    "                                               ['LoanAmount', 'ApplicantIncome'],\n",
    "                                               resolution=10)\n",
    "\n",
    "alt.Chart(dependency).mark_rect().encode(\n",
    "    x='LoanAmount:O',\n",
    "    y='ApplicantIncome:O',\n",
    "    color='predicted_1:Q'\n",
    ")"
   ]
  },
  {
   "cell_type": "markdown",
   "metadata": {
    "colab_type": "text",
    "id": "Szp7nYlySZmc"
   },
   "source": [
    "### TreeSurrogates (Experimental)"
   ]
  },
  {
   "cell_type": "code",
   "execution_count": 13,
   "metadata": {
    "ExecuteTime": {
     "end_time": "2019-05-07T07:11:06.974674Z",
     "start_time": "2019-05-07T07:11:06.933328Z"
    },
    "colab": {
     "base_uri": "https://localhost:8080/",
     "height": 3216
    },
    "colab_type": "code",
    "id": "wTqbz864SkKv",
    "outputId": "ff28e9e6-2ea5-4a2d-e983-4c2c55a487f4"
   },
   "outputs": [],
   "source": [
    "# help(interpreter.tree_surrogate)"
   ]
  },
  {
   "cell_type": "markdown",
   "metadata": {
    "colab": {},
    "colab_type": "code",
    "id": "Oo-gSWI2EGM0"
   },
   "source": [
    "## Contrastive explanation\n",
    "Based on https://arxiv.org/pdf/1806.07470.pdf and https://github.com/MarcelRobeer/ContrastiveExplanation"
   ]
  },
  {
   "cell_type": "code",
   "execution_count": 14,
   "metadata": {
    "ExecuteTime": {
     "end_time": "2019-05-07T07:11:07.394971Z",
     "start_time": "2019-05-07T07:11:07.122735Z"
    }
   },
   "outputs": [],
   "source": [
    "# from IPython.core.debugger import set_trace\n",
    "import src.contrastive_explanation as ce\n",
    "\n",
    "# dm = ce.domain_mappers.DomainMapperTabular(X[0].values, \n",
    "#                                            feature_names = ['Gender', 'Married', 'Dependents', 'Education', 'Self_Employed', 'ApplicantIncome', 'CoapplicantIncome', 'LoanAmount', 'Loan_Amount_Term', 'Credit_History', 'Urban', 'Rural'],\n",
    "#                                            categorical_features=[0, 1, 2, 3, 4, 9, 10, 11])\n",
    "# print(loan_model.features_list())\n",
    "dm = ce.domain_mappers.DomainMapperTabular(X[0].values, \n",
    "                                           feature_names = loan_model.features(),\n",
    "                                           categorical_features = loan_model.categoricals())\n",
    "\n",
    "# exp = ce.ContrastiveExplanation(dm, verbose=True)\n",
    "exp = ce.ContrastiveExplanation(dm)"
   ]
  },
  {
   "cell_type": "code",
   "execution_count": 19,
   "metadata": {
    "ExecuteTime": {
     "end_time": "2019-05-07T07:11:23.917078Z",
     "start_time": "2019-05-07T07:11:23.814171Z"
    }
   },
   "outputs": [
    {
     "name": "stdout",
     "output_type": "stream",
     "text": [
      "Sample # 50\n",
      "The model predicted '0' instead of '1' because 'Loan_Amount_Term <= 395.774'\n",
      "--------------------\n",
      "Sample # 77\n",
      "The model predicted '1' instead of '0' because 'LoanAmount > 4.695'\n",
      "--------------------\n",
      "Sample # 50\n",
      "The model predicted '0' instead of '1' because 'not Credit_History and ApplicantIncome > 2977.76 and LoanAmount > 64.407'\n",
      "--------------------\n"
     ]
    }
   ],
   "source": [
    "import random\n",
    "num_of_examples = 3\n",
    "\n",
    "for i in range(num_of_examples):\n",
    "    idx = random.randrange(len(X[1]))\n",
    "    number_of_explanations = 1\n",
    "\n",
    "    sample = X[1].values[idx]\n",
    "    print(\"Sample #\", idx + 1)\n",
    "    print(exp.explain_instance_domain(loan_model.predict, sample))\n",
    "    print('--------------------')"
   ]
  },
  {
   "cell_type": "code",
   "execution_count": null,
   "metadata": {},
   "outputs": [],
   "source": []
  }
 ],
 "metadata": {
  "colab": {
   "name": "loan_data.ipynb",
   "provenance": [],
   "version": "0.3.2"
  },
  "kernelspec": {
   "display_name": "Python 3",
   "language": "python",
   "name": "python3"
  },
  "language_info": {
   "codemirror_mode": {
    "name": "ipython",
    "version": 3
   },
   "file_extension": ".py",
   "mimetype": "text/x-python",
   "name": "python",
   "nbconvert_exporter": "python",
   "pygments_lexer": "ipython3",
   "version": "3.6.8"
  },
  "toc": {
   "base_numbering": 1,
   "nav_menu": {},
   "number_sections": true,
   "sideBar": true,
   "skip_h1_title": false,
   "title_cell": "Table of Contents",
   "title_sidebar": "Contents",
   "toc_cell": false,
   "toc_position": {},
   "toc_section_display": true,
   "toc_window_display": false
  },
  "varInspector": {
   "cols": {
    "lenName": 16,
    "lenType": 16,
    "lenVar": 40
   },
   "kernels_config": {
    "python": {
     "delete_cmd_postfix": "",
     "delete_cmd_prefix": "del ",
     "library": "var_list.py",
     "varRefreshCmd": "print(var_dic_list())"
    },
    "r": {
     "delete_cmd_postfix": ") ",
     "delete_cmd_prefix": "rm(",
     "library": "var_list.r",
     "varRefreshCmd": "cat(var_dic_list()) "
    }
   },
   "types_to_exclude": [
    "module",
    "function",
    "builtin_function_or_method",
    "instance",
    "_Feature"
   ],
   "window_display": false
  }
 },
 "nbformat": 4,
 "nbformat_minor": 1
}
